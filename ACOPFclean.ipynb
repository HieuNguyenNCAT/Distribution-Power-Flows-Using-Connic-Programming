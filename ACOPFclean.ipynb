{
 "cells": [
  {
   "cell_type": "markdown",
   "metadata": {},
   "source": [
    "\n",
    "<font size=\"5\">**On the comparison of different convexified power flow models in radial network**</font> \n",
    "\n",
    "***\n",
    "This repository contains the supplementary material for the paper entitled \"On the comparison of different convexified power flow models in radial network\" published on IEEE Xplore: https://ieeexplore.ieee.org/stamp/stamp.jsp?arnumber=9814764\n",
    "\n",
    "In the repsitory, the code of following sections are provided:\n",
    "1. Read data from MATPOWER\n",
    "2. Bus injection model\n",
    "3. Branch flows model"
   ]
  },
  {
   "cell_type": "markdown",
   "metadata": {},
   "source": [
    "# Read data from MATPOWER"
   ]
  },
  {
   "cell_type": "code",
   "execution_count": 2,
   "metadata": {},
   "outputs": [],
   "source": [
    "#Read data\n",
    "import cvxpy as cvx\n",
    "import numpy as np\n",
    "import math\n",
    "import mosek\n",
    "import gurobipy\n",
    "# to run the following commands, please follow  https://www.instructables.com/id/Call-MATLAB-Script-and-Function-From-Python/\n",
    "import matlab.engine\n",
    "eng = matlab.engine.start_matlab()\n",
    "\n",
    "##Radial network test cases\n",
    "#case = \"case141\"\n",
    "case =\"case33bw\"\n",
    "#case = \"case18\"\n",
    "\n",
    "ret = eng.Read_RadialNet_Matpower(case)  #case33bw, case123  # these command is equivalent to run Read_Matpower_Radial(case33bw) in Matlab\n",
    "import scipy.io as spio #Reading Matlab mat data as Python dictionary\n",
    "data = spio.loadmat('Radial_Netdata', squeeze_me=True) #taken from Matlab command Read_Matpower_Radial(Matpower_case_format);\n",
    "#data contains the following parameters\n",
    "#'Sbase', 'Pgmax', 'Pgmin', 'Qgmax', 'Qgmin', 'GenVarCost0', 'GenVarCost', 'G', 'B', 'MVAlim', 'connex', 'Pd', 'Qd', 'Vmax', 'Vmin','Gen2Bus'\n",
    "r = data['r']\n",
    "x = data['x']\n",
    "slack_bus =0\n",
    "#slack_bus =55 #case 123 slackbus is 56 (Python index count from 0)\n",
    "#slack_bus =113\n",
    "I = len(data['Pd'])\n",
    "G = data['G']\n",
    "B = -data['B']\n",
    "MVAlim =data['MVAlim']\n",
    "status = data['status']"
   ]
  },
  {
   "cell_type": "markdown",
   "metadata": {},
   "source": [
    "Define a connex function to check whether a pair of node $i,j=\\ell \\in \\mathcal{L}$"
   ]
  },
  {
   "cell_type": "code",
   "execution_count": 3,
   "metadata": {},
   "outputs": [],
   "source": [
    "def connex(i,j,data): #return 1 of (i,j) or (j,i) is a \"connected\" line\n",
    "    temp = False\n",
    "    for line in range(data['L']):\n",
    "        z1= (i== data['from_bus'][line]-1) and (j== data['to_bus'][line]-1)\n",
    "        z2= (j== data['from_bus'][line]-1) and (i== data['to_bus'][line]-1)\n",
    "        z3= (data['status'][line]==1) #some lines are open switches\n",
    "        z= (z1 or z2) and z3\n",
    "        temp = temp or z\n",
    "    return temp"
   ]
  },
  {
   "cell_type": "markdown",
   "metadata": {},
   "source": [
    "Normalize the data from MATPOWER"
   ]
  },
  {
   "cell_type": "code",
   "execution_count": 4,
   "metadata": {},
   "outputs": [
    {
     "name": "stdout",
     "output_type": "stream",
     "text": [
      "[270 270 270 270 270 270 270 270 270 270 270 270 270 270 270 270 270 270\n",
      " 270 270 270 270 270 270 270 270 270 270 270 270 270 270]\n"
     ]
    }
   ],
   "source": [
    "print(MVAlim)\n",
    "if case ==\"case18\":\n",
    "    scale = 10\n",
    "else:\n",
    "    scale = 1\n",
    "data['Sbase']= scale*data['Sbase']\n",
    "r = r*scale\n",
    "x = x*scale\n",
    "data['gs'] = data['gs']/scale\n",
    "data['bs'] = data['bs']/scale"
   ]
  },
  {
   "cell_type": "markdown",
   "metadata": {},
   "source": [
    "# Bus injection model"
   ]
  },
  {
   "cell_type": "markdown",
   "metadata": {},
   "source": [
    "Objective function: $\\min P^{\\sf grid}$\n",
    "\n",
    "Subject to:\n",
    "\n",
    "> $(\\underline{V}_i)^2 \\leq V_{i}^{sq} \\leq (\\overline{V}_i)^2 , \\quad \\forall i \\in \\mathcal{I}$\n",
    "    \n",
    "> $P_{ij} = \\frac{1}{r^2_{\\ell} + x^2_\\ell} \\left( r_{\\ell} V_{i}^{sq} - r_\\ell R_{\\ell} + x_\\ell T_{\\ell} \\right), \\quad \\forall \\ell = ij \\in \\mathcal{L}$\n",
    "\n",
    "> $Q_{ij} = \\frac{1}{r^2_{\\ell} + x^2_\\ell} \\left( x_{\\ell} V_{i}^{sq} - x_\\ell R_{\\ell} - x_\\ell T_{\\ell} \\right), \\quad \\forall \\ell = ij \\in \\mathcal{L}$\n",
    "\n",
    "> $P_{ji} = \\frac{1}{r^2_{\\ell} + x^2_\\ell} \\left( r_{\\ell} V_{j}^{sq} - r_\\ell R_{\\ell} - x_\\ell T_{\\ell} \\right), \\quad \\forall \\ell = ij \\in \\mathcal{L}$\n",
    "\n",
    "> $Q_{ji} = \\frac{1}{r^2_{\\ell} + x^2_\\ell} \\left( x_{\\ell} V_{j}^{sq} - x_\\ell R_{\\ell} + x_\\ell T_{\\ell} \\right), \\quad \\forall \\ell = ij \\in \\mathcal{L}$\n",
    "\n",
    "> $I^{sq}_{\\ell} = \\frac{1}{r^2_{\\ell} + x^2_\\ell} \\left( V_{i}^{sq} + V_{j}^{sq} - 2R_{\\ell} \\right), \\quad  \\forall \\ell = ij \\in \\mathcal{L}$\n",
    "\n",
    "> $P^d_{i} + \\sum_{j \\in \\mathcal{N} \\left(i \\right)} P_{ij} = 0, \\quad \\forall i \\in \\mathcal{I}$\n",
    "\n",
    "> $Q^d_{i} + \\sum_{j \\in \\mathcal{N} \\left( i \\right)} Q_{ij} = 0, \\quad \\forall i \\in \\mathcal{I}$\n",
    "\n",
    "> $P^{\\sf grid} = \\sum\\limits_{j \\in \\mathcal{N}(1)} P_{1j}$\n",
    "> $Q^{\\sf grid} = \\sum\\limits_{j \\in \\mathcal{N}(1)} Q_{1j}$\n",
    "\n",
    "> $(R_{\\ell})^2 + (T_{\\ell})^2 \\leq V_{i}^{sq} V_{j}^{sq}, ~ R_{\\ell}  \\geq 0,  \\quad \\forall \\ell = ij \\in \\mathcal{L}$\n",
    "\n",
    "> $I^{sq}_{\\ell} \\geq 0,  \\quad \\forall \\ell \\in \\mathcal{L}$\n",
    "***"
   ]
  },
  {
   "cell_type": "markdown",
   "metadata": {},
   "source": [
    "Let's define variables: $P_{ij}, Q_{ij}, R_\\ell, T_\\ell, V^{sq}_i, I^{sq}_\\ell$,\n",
    "and define the constraint set"
   ]
  },
  {
   "cell_type": "code",
   "execution_count": 5,
   "metadata": {},
   "outputs": [],
   "source": [
    "P = cvx.Variable((I,I))\n",
    "Q = cvx.Variable((I,I))\n",
    "R = cvx.Variable(data['L'],nonneg=True) \n",
    "T = cvx.Variable(data['L'])            \n",
    "Vsq  = cvx.Variable(I) \n",
    "Isq  = cvx.Variable(data['L'],nonneg=True)\n",
    "\n",
    "const = []"
   ]
  },
  {
   "cell_type": "markdown",
   "metadata": {},
   "source": [
    "## Voltage limits constraint:\n",
    "$(\\underline{V}_i)^2 \\leq V_{i}^{sq} \\leq (\\overline{V}_i)^2 , \\quad \\forall i \\in \\mathcal{I}$"
   ]
  },
  {
   "cell_type": "code",
   "execution_count": 6,
   "metadata": {},
   "outputs": [],
   "source": [
    "const += [Vsq[i] >= (data['Vmin'][i])**2 for i in range(I) if i != slack_bus]\n",
    "const += [Vsq[i] <= (data['Vmax'][i])**2 for i in range(I) if i != slack_bus]\n",
    "\n",
    "if case == \"case18\":\n",
    "    const += [Vsq[slack_bus] == 1.1]\n",
    "else:\n",
    "    const += [Vsq[slack_bus] == 1]"
   ]
  },
  {
   "cell_type": "markdown",
   "metadata": {},
   "source": [
    "## The line power flow equations $P_{ij}, P_{ji}, Q_{ij}, Q_{ji}$ and the squared line current $I^{sq}_\\ell$:  \n",
    "$P_{ij} = \\frac{1}{r^2_{\\ell} + x^2_\\ell} \\left( r_{\\ell} V_{i}^{sq} - r_\\ell R_{\\ell} + x_\\ell T_{\\ell} \\right), \\quad \\forall \\ell = ij \\in \\mathcal{L}$\n",
    "\n",
    "$Q_{ij} = \\frac{1}{r^2_{\\ell} + x^2_\\ell} \\left( x_{\\ell} V_{i}^{sq} - x_\\ell R_{\\ell} - x_\\ell T_{\\ell} \\right), \\quad \\forall \\ell = ij \\in \\mathcal{L}$\n",
    "\n",
    "$P_{ji} = \\frac{1}{r^2_{\\ell} + x^2_\\ell} \\left( r_{\\ell} V_{j}^{sq} - r_\\ell R_{\\ell} - x_\\ell T_{\\ell} \\right), \\quad \\forall \\ell = ij \\in \\mathcal{L}$\n",
    "\n",
    "$Q_{ji} = \\frac{1}{r^2_{\\ell} + x^2_\\ell} \\left( x_{\\ell} V_{j}^{sq} - x_\\ell R_{\\ell} + x_\\ell T_{\\ell} \\right), \\quad \\forall \\ell = ij \\in \\mathcal{L}$\n",
    "\n",
    "$I^{sq}_{\\ell} = \\frac{1}{r^2_{\\ell} + x^2_\\ell} \\left( V_{i}^{sq} + V_{j}^{sq} - 2R_{\\ell} \\right), \\quad  \\forall \\ell = ij \\in \\mathcal{L}$"
   ]
  },
  {
   "cell_type": "code",
   "execution_count": 7,
   "metadata": {},
   "outputs": [],
   "source": [
    "for line in range(data['L']):\n",
    "    i = data['from_bus'][line]-1\n",
    "    j = data['to_bus'][line]-1       \n",
    "    if status[line] ==1:\n",
    "        const += [P[i,j] == (r[line]*Vsq[i] - r[line]*R[line]+ x[line]*T[line])/(r[line]**2 + x[line]**2)]\n",
    "        const += [Q[i,j] == (x[line]*Vsq[i] - x[line]*R[line]- r[line]*T[line])/(r[line]**2 + x[line]**2)]\n",
    "        const += [P[j,i] == (r[line]*Vsq[j] - r[line]*R[line]- x[line]*T[line])/(r[line]**2 + x[line]**2)]\n",
    "        const += [Q[j,i] == (x[line]*Vsq[j] - x[line]*R[line]+ r[line]*T[line])/(r[line]**2 + x[line]**2)]        \n",
    "        const += [Isq[line]  == (Vsq[i]+Vsq[j] - 2*R[line])/(r[line]**2 + x[line]**2)]"
   ]
  },
  {
   "cell_type": "markdown",
   "metadata": {},
   "source": [
    "## The active and reactive power balance constraints:  \n",
    "$P^d_{i} + \\sum_{j \\in \\mathcal{N} \\left(i \\right)} P_{ij} = 0, \\quad \\forall i \\in \\mathcal{I}$\n",
    "\n",
    "$Q^d_{i} + \\sum_{j \\in \\mathcal{N} \\left( i \\right)} Q_{ij} = 0, \\quad \\forall i \\in \\mathcal{I}$"
   ]
  },
  {
   "cell_type": "code",
   "execution_count": 8,
   "metadata": {},
   "outputs": [],
   "source": [
    "bus_Pinjection = [-sum(P[i,j] for j in range(I) if connex(i,j,data)) for i in range(I)]\n",
    "bus_Qinjection = [-sum(Q[i,j] for j in range(I) if connex(i,j,data)) for i in range(I)]\n",
    "\n",
    "const += [(bus_Pinjection[i]+data['gs'][i]*Vsq[i])== data['Pd'][i]/data['Sbase']  for i in range(I) if i != slack_bus]\n",
    "const += [(bus_Qinjection[i]+data['bs'][i]*Vsq[i]) == data['Qd'][i]/data['Sbase'] for i in range(I) if i != slack_bus]"
   ]
  },
  {
   "cell_type": "markdown",
   "metadata": {},
   "source": [
    "## The SOC constraint:  \n",
    "The rotated conic constraint $(R_{\\ell})^2 + (T_{\\ell})^2 \\leq V_{i}^{sq} V_{j}^{sq}, ~ R_{\\ell}  \\geq 0,  \\quad \\forall \\ell = ij \\in \\mathcal{L}$ \n",
    "can be casted into \n",
    "\n",
    "$\\sqrt{R^2_{\\ell} + T^2_{\\ell} + \\left( \\frac{V_{i}^{sq} - V_{j}^{sq}}{2} \\right)^2} \\leq \\frac{V_{i}^{sq} + V_{j}^{sq}}{2}, \\forall \\ell = ij \\in \\mathcal{L}$\n",
    "\n",
    "In CVXPY, these two cones can be implemented by two following functions, respectively:\n",
    "- The rotated quadratic cone:\n",
    "\n",
    "$\n",
    "\\underbrace {\\frac{R_{\\ell}^2 + T_{\\ell}^2}{V_{i}^{sq}}}_{\\text{quad_over_lin}(\\left[R_{\\ell} ~ T_{\\ell}\\right],~V_{i}^{sq})} \\leq V_{j}^{sq}\n",
    "$\n",
    "- The SOC can be deployed by:\n",
    "$\n",
    "\\underbrace {\\sqrt{R_{\\ell}^2 + T_{\\ell}^2 + \\Big(\\frac{V_{i}^{sq} - V_{j}^{sq}}{2} \\Big)^2}}_{\\text{norm2}\\big(\\left[R_{\\ell} \\quad T_{\\ell} \\quad (V_{i}^{sq} - V_{j}^{sq})/2\\right]\\big)} \\leq \\frac{V_{i}^{sq} + V_{j}^{sq}}{2}\n",
    "$"
   ]
  },
  {
   "cell_type": "code",
   "execution_count": 9,
   "metadata": {},
   "outputs": [],
   "source": [
    "for line in range(data['L']):\n",
    "    if status[line] ==1:\n",
    "        i = data['from_bus'][line]-1\n",
    "        j = data['to_bus'][line]-1\n",
    "#        const += [cvx.quad_over_lin(cvx.bmat([[R[line], T[line]]]), Vsq[i]) <= Vsq[j]]\n",
    "        const += [cvx.norm2(cvx.bmat([[R[line], T[line], 0.5*(Vsq[i] - Vsq[j])]])) <= 0.5*(Vsq[i]+ Vsq[j])]"
   ]
  },
  {
   "cell_type": "markdown",
   "metadata": {},
   "source": [
    "## Objective function: $\\min P^{\\sf grid}$\n",
    "\n",
    "In this paper, we tested the model with CPLEX and MOSEK. Many other solvers can be called by CVXPY if installed. For detail of supported solvers by CVXPY, refer to: https://www.cvxpy.org/tutorial/advanced/index.html"
   ]
  },
  {
   "cell_type": "code",
   "execution_count": 10,
   "metadata": {},
   "outputs": [
    {
     "name": "stdout",
     "output_type": "stream",
     "text": [
      "===============================================================================\n",
      "                                     CVXPY                                     \n",
      "                                     v1.2.0                                    \n",
      "===============================================================================\n",
      "(CVXPY) Aug 01 12:16:44 PM: Your problem has 2307 variables, 321 constraints, and 0 parameters.\n",
      "(CVXPY) Aug 01 12:16:44 PM: It is compliant with the following grammars: DCP, DQCP\n",
      "(CVXPY) Aug 01 12:16:44 PM: (If you need to solve this problem multiple times, but with different data, consider using parameters.)\n",
      "(CVXPY) Aug 01 12:16:44 PM: CVXPY will first compile your problem; then, it will invoke a numerical solver to obtain a solution.\n",
      "-------------------------------------------------------------------------------\n",
      "                                  Compilation                                  \n",
      "-------------------------------------------------------------------------------\n",
      "(CVXPY) Aug 01 12:16:44 PM: Compiling problem (target solver=MOSEK).\n",
      "(CVXPY) Aug 01 12:16:44 PM: Reduction chain: Dcp2Cone -> CvxAttr2Constr -> ConeMatrixStuffing -> MOSEK\n",
      "(CVXPY) Aug 01 12:16:44 PM: Applying reduction Dcp2Cone\n",
      "(CVXPY) Aug 01 12:16:44 PM: Applying reduction CvxAttr2Constr\n",
      "(CVXPY) Aug 01 12:16:44 PM: Applying reduction ConeMatrixStuffing\n",
      "(CVXPY) Aug 01 12:16:44 PM: Applying reduction MOSEK\n",
      "(CVXPY) Aug 01 12:16:45 PM: Finished problem compilation (took 4.602e-01 seconds).\n",
      "-------------------------------------------------------------------------------\n",
      "                                Numerical solver                               \n",
      "-------------------------------------------------------------------------------\n",
      "(CVXPY) Aug 01 12:16:45 PM: Invoking solver MOSEK  to obtain a solution.\n",
      "\n",
      "\n",
      "(CVXPY) Aug 01 12:16:45 PM: Problem\n",
      "(CVXPY) Aug 01 12:16:45 PM:   Name                   :                 \n",
      "(CVXPY) Aug 01 12:16:45 PM:   Objective sense        : max             \n",
      "(CVXPY) Aug 01 12:16:45 PM:   Type                   : CONIC (conic optimization problem)\n",
      "(CVXPY) Aug 01 12:16:45 PM:   Constraints            : 2339            \n",
      "(CVXPY) Aug 01 12:16:45 PM:   Cones                  : 32              \n",
      "(CVXPY) Aug 01 12:16:45 PM:   Scalar variables       : 513             \n",
      "(CVXPY) Aug 01 12:16:45 PM:   Matrix variables       : 0               \n",
      "(CVXPY) Aug 01 12:16:45 PM:   Integer variables      : 0               \n",
      "(CVXPY) Aug 01 12:16:45 PM: \n",
      "(CVXPY) Aug 01 12:16:45 PM: Optimizer started.\n",
      "(CVXPY) Aug 01 12:16:45 PM: Presolve started.\n",
      "(CVXPY) Aug 01 12:16:45 PM: Linear dependency checker started.\n",
      "(CVXPY) Aug 01 12:16:45 PM: Linear dependency checker terminated.\n",
      "(CVXPY) Aug 01 12:16:45 PM: Eliminator started.\n",
      "(CVXPY) Aug 01 12:16:45 PM: Freed constraints in eliminator : 183\n",
      "(CVXPY) Aug 01 12:16:45 PM: Eliminator terminated.\n",
      "(CVXPY) Aug 01 12:16:45 PM: Eliminator started.\n",
      "(CVXPY) Aug 01 12:16:45 PM: Freed constraints in eliminator : 0\n",
      "(CVXPY) Aug 01 12:16:45 PM: Eliminator terminated.\n",
      "(CVXPY) Aug 01 12:16:45 PM: Eliminator - tries                  : 2                 time                   : 0.00            \n",
      "(CVXPY) Aug 01 12:16:45 PM: Lin. dep.  - tries                  : 1                 time                   : 0.00            \n",
      "(CVXPY) Aug 01 12:16:45 PM: Lin. dep.  - number                 : 0               \n",
      "(CVXPY) Aug 01 12:16:45 PM: Presolve terminated. Time: 0.01    \n",
      "(CVXPY) Aug 01 12:16:45 PM: Problem\n",
      "(CVXPY) Aug 01 12:16:45 PM:   Name                   :                 \n",
      "(CVXPY) Aug 01 12:16:45 PM:   Objective sense        : max             \n",
      "(CVXPY) Aug 01 12:16:45 PM:   Type                   : CONIC (conic optimization problem)\n",
      "(CVXPY) Aug 01 12:16:45 PM:   Constraints            : 2339            \n",
      "(CVXPY) Aug 01 12:16:45 PM:   Cones                  : 32              \n",
      "(CVXPY) Aug 01 12:16:45 PM:   Scalar variables       : 513             \n",
      "(CVXPY) Aug 01 12:16:45 PM:   Matrix variables       : 0               \n",
      "(CVXPY) Aug 01 12:16:45 PM:   Integer variables      : 0               \n",
      "(CVXPY) Aug 01 12:16:45 PM: \n",
      "(CVXPY) Aug 01 12:16:45 PM: Optimizer  - threads                : 6               \n",
      "(CVXPY) Aug 01 12:16:45 PM: Optimizer  - solved problem         : the dual        \n",
      "(CVXPY) Aug 01 12:16:45 PM: Optimizer  - Constraints            : 159\n",
      "(CVXPY) Aug 01 12:16:45 PM: Optimizer  - Cones                  : 32\n",
      "(CVXPY) Aug 01 12:16:45 PM: Optimizer  - Scalar variables       : 223               conic                  : 128             \n",
      "(CVXPY) Aug 01 12:16:45 PM: Optimizer  - Semi-definite variables: 0                 scalarized             : 0               \n",
      "(CVXPY) Aug 01 12:16:45 PM: Factor     - setup time             : 0.00              dense det. time        : 0.00            \n",
      "(CVXPY) Aug 01 12:16:45 PM: Factor     - ML order time          : 0.00              GP order time          : 0.00            \n",
      "(CVXPY) Aug 01 12:16:45 PM: Factor     - nonzeros before factor : 1085              after factor           : 1257            \n",
      "(CVXPY) Aug 01 12:16:45 PM: Factor     - dense dim.             : 0                 flops                  : 1.83e+04        \n",
      "(CVXPY) Aug 01 12:16:45 PM: ITE PFEAS    DFEAS    GFEAS    PRSTATUS   POBJ              DOBJ              MU       TIME  \n",
      "(CVXPY) Aug 01 12:16:45 PM: 0   1.4e+03  1.0e+00  1.0e+00  0.00e+00   1.379797487e+03   1.379797487e+03   1.0e+00  0.03  \n",
      "(CVXPY) Aug 01 12:16:45 PM: 1   2.7e+02  1.9e-01  4.4e-01  -1.00e+00  1.163631104e+03   1.159474016e+03   1.9e-01  0.06  \n",
      "(CVXPY) Aug 01 12:16:45 PM: 2   4.7e+01  3.4e-02  1.9e-01  -1.01e+00  -2.506204912e+02  -2.797608360e+02  3.4e-02  0.06  \n",
      "(CVXPY) Aug 01 12:16:45 PM: 3   3.0e+01  2.2e-02  1.3e-01  -8.87e-01  -9.073086807e+02  -9.439928131e+02  2.2e-02  0.06  \n",
      "(CVXPY) Aug 01 12:16:45 PM: 4   2.3e+01  1.7e-02  4.4e-02  8.42e-01   -8.227104027e+01  -8.896900774e+01  1.7e-02  0.06  \n",
      "(CVXPY) Aug 01 12:16:45 PM: 5   5.4e+00  3.9e-03  5.1e-03  5.33e-01   -1.933110010e+02  -1.948711855e+02  3.9e-03  0.06  \n",
      "(CVXPY) Aug 01 12:16:45 PM: 6   2.9e+00  2.1e-03  2.3e-03  9.96e-01   -1.460517494e+02  -1.471857843e+02  2.1e-03  0.06  \n",
      "(CVXPY) Aug 01 12:16:45 PM: 7   1.8e+00  1.3e-03  1.2e-03  8.56e-01   -1.186667485e+02  -1.195579462e+02  1.3e-03  0.06  \n",
      "(CVXPY) Aug 01 12:16:45 PM: 8   1.3e+00  9.8e-04  1.0e-03  4.41e-01   -1.081734796e+02  -1.091683726e+02  9.8e-04  0.06  \n",
      "(CVXPY) Aug 01 12:16:45 PM: 9   7.2e-01  5.2e-04  3.9e-04  7.83e-01   -7.315396483e+01  -7.369588467e+01  5.2e-04  0.06  \n",
      "(CVXPY) Aug 01 12:16:45 PM: 10  2.6e-01  1.9e-04  1.1e-04  5.98e-01   -4.354061649e+01  -4.387245490e+01  1.9e-04  0.06  \n",
      "(CVXPY) Aug 01 12:16:45 PM: 11  1.3e-01  9.3e-05  4.8e-05  5.13e-01   -3.008542648e+01  -3.034964120e+01  9.3e-05  0.06  \n",
      "(CVXPY) Aug 01 12:16:45 PM: 12  3.8e-02  2.7e-05  9.2e-06  6.05e-01   -1.106317337e+01  -1.117546621e+01  2.7e-05  0.06  \n",
      "(CVXPY) Aug 01 12:16:45 PM: 13  1.4e-02  1.0e-05  2.7e-06  6.98e-01   -4.619628820e+00  -4.687065417e+00  1.0e-05  0.06  \n",
      "(CVXPY) Aug 01 12:16:45 PM: 14  8.0e-03  5.8e-06  1.4e-06  5.50e-01   -2.124882577e+00  -2.181398346e+00  5.8e-06  0.06  \n",
      "(CVXPY) Aug 01 12:16:45 PM: 15  4.3e-03  3.1e-06  6.2e-07  5.59e-01   1.928725385e-01   1.525476257e-01   3.1e-06  0.06  \n",
      "(CVXPY) Aug 01 12:16:45 PM: 16  9.1e-04  6.6e-07  5.6e-08  8.78e-01   2.995814691e+00   2.988580626e+00   6.6e-07  0.06  \n",
      "(CVXPY) Aug 01 12:16:45 PM: 17  2.2e-04  1.6e-07  7.2e-09  1.05e+00   3.643440597e+00   3.641479145e+00   1.6e-07  0.06  \n",
      "(CVXPY) Aug 01 12:16:45 PM: 18  5.8e-05  4.2e-08  9.8e-10  9.98e-01   3.822646350e+00   3.822101789e+00   4.2e-08  0.08  \n",
      "(CVXPY) Aug 01 12:16:45 PM: 19  3.8e-05  2.8e-08  5.8e-10  8.64e-01   3.848149900e+00   3.847719974e+00   2.8e-08  0.08  \n",
      "(CVXPY) Aug 01 12:16:45 PM: 20  3.1e-05  2.3e-08  4.1e-10  5.27e-01   3.859385636e+00   3.859070772e+00   2.3e-08  0.08  \n",
      "(CVXPY) Aug 01 12:16:45 PM: 21  2.3e-05  1.7e-08  2.9e-10  8.77e-01   3.872544616e+00   3.872266375e+00   1.7e-08  0.08  \n",
      "(CVXPY) Aug 01 12:16:45 PM: 22  7.2e-06  5.2e-09  5.1e-11  1.00e+00   3.903692954e+00   3.903598432e+00   5.7e-09  0.08  \n",
      "(CVXPY) Aug 01 12:16:45 PM: 23  3.3e-06  2.4e-09  1.6e-11  1.00e+00   3.910924080e+00   3.910879504e+00   2.6e-09  0.08  \n",
      "(CVXPY) Aug 01 12:16:45 PM: 24  2.0e-06  1.5e-09  7.9e-12  1.00e+00   3.913576112e+00   3.913547339e+00   1.7e-09  0.08  \n",
      "(CVXPY) Aug 01 12:16:45 PM: 25  1.0e-06  7.2e-10  2.8e-12  1.00e+00   3.915645933e+00   3.915631403e+00   8.5e-10  0.08  \n",
      "(CVXPY) Aug 01 12:16:45 PM: 26  2.0e-07  2.0e-10  3.0e-13  1.00e+00   3.917268428e+00   3.917265543e+00   1.7e-10  0.08  \n",
      "(CVXPY) Aug 01 12:16:45 PM: Optimizer terminated. Time: 0.08    \n",
      "(CVXPY) Aug 01 12:16:45 PM: \n",
      "(CVXPY) Aug 01 12:16:45 PM: \n",
      "(CVXPY) Aug 01 12:16:45 PM: Interior-point solution summary\n",
      "(CVXPY) Aug 01 12:16:45 PM:   Problem status  : PRIMAL_AND_DUAL_FEASIBLE\n",
      "(CVXPY) Aug 01 12:16:45 PM:   Solution status : OPTIMAL\n",
      "(CVXPY) Aug 01 12:16:45 PM:   Primal.  obj: 3.9172684280e+00    nrm: 3e+03    Viol.  con: 5e-13    var: 0e+00    cones: 2e-05  \n",
      "(CVXPY) Aug 01 12:16:45 PM:   Dual.    obj: 3.9172655427e+00    nrm: 1e+00    Viol.  con: 0e+00    var: 2e-08    cones: 0e+00  \n",
      "-------------------------------------------------------------------------------\n",
      "                                    Summary                                    \n",
      "-------------------------------------------------------------------------------\n",
      "(CVXPY) Aug 01 12:16:45 PM: Problem status: optimal\n",
      "(CVXPY) Aug 01 12:16:45 PM: Optimal value: 3.917e+00\n",
      "(CVXPY) Aug 01 12:16:45 PM: Compilation took 4.602e-01 seconds\n",
      "(CVXPY) Aug 01 12:16:45 PM: Solver (including time spent in interface) took 1.119e-01 seconds\n"
     ]
    },
    {
     "data": {
      "text/plain": [
       "3.917265542651016"
      ]
     },
     "execution_count": 10,
     "metadata": {},
     "output_type": "execute_result"
    }
   ],
   "source": [
    "Pgrid = -bus_Pinjection[slack_bus]*data['Sbase']\n",
    "Qgrid = -bus_Qinjection[slack_bus]*data['Sbase']\n",
    "\n",
    "prob = cvx.Problem(cvx.Minimize(Pgrid), const) \n",
    "\n",
    "#Define a desired solver at user's preference:\n",
    "prob.solve(solver='MOSEK', verbose=True, warm_start = True)\n",
    "#prob.solve(solver='CPLEX', verbose=True, warm_start = True) "
   ]
  },
  {
   "cell_type": "markdown",
   "metadata": {},
   "source": [
    "## Export the optimal solution"
   ]
  },
  {
   "cell_type": "code",
   "execution_count": 24,
   "metadata": {},
   "outputs": [
    {
     "name": "stdout",
     "output_type": "stream",
     "text": [
      "Active power loss: 0.20267206592802056 MW\n",
      "Imported active power from main grid: 3.9176720659280218 MW\n",
      "Imported reactive power from main grid: 2.4351366855248435 MVAr\n",
      "VOLTAGE MAGNITUDE\n",
      "Bus index \t Voltage\n",
      "1 \t \t 1.0\n",
      "2 \t \t 0.997\n",
      "3 \t \t 0.9829\n",
      "4 \t \t 0.9755\n",
      "5 \t \t 0.9681\n",
      "6 \t \t 0.9497\n",
      "7 \t \t 0.9462\n",
      "8 \t \t 0.9413\n",
      "9 \t \t 0.9351\n",
      "10 \t \t 0.9292\n",
      "11 \t \t 0.9284\n",
      "12 \t \t 0.9269\n",
      "13 \t \t 0.9208\n",
      "14 \t \t 0.9185\n",
      "15 \t \t 0.9171\n",
      "16 \t \t 0.9157\n",
      "17 \t \t 0.9137\n",
      "18 \t \t 0.9131\n",
      "19 \t \t 0.9965\n",
      "20 \t \t 0.9929\n",
      "21 \t \t 0.9922\n",
      "22 \t \t 0.9916\n",
      "23 \t \t 0.9794\n",
      "24 \t \t 0.9727\n",
      "25 \t \t 0.9694\n",
      "26 \t \t 0.9477\n",
      "27 \t \t 0.9452\n",
      "28 \t \t 0.9337\n",
      "29 \t \t 0.9255\n",
      "30 \t \t 0.922\n",
      "31 \t \t 0.9178\n",
      "32 \t \t 0.9169\n",
      "33 \t \t 0.9166\n",
      "================================================================================\n",
      "CURRENT MAGNITUDE\n",
      "Line index \t Current\n",
      "1 \t \t 0.0461\n",
      "2 \t \t 0.041\n",
      "3 \t \t 0.0295\n",
      "4 \t \t 0.028\n",
      "5 \t \t 0.0274\n",
      "6 \t \t 0.0128\n",
      "7 \t \t 0.0104\n",
      "8 \t \t 0.0081\n",
      "9 \t \t 0.0074\n",
      "10 \t \t 0.0067\n",
      "11 \t \t 0.0061\n",
      "12 \t \t 0.0054\n",
      "13 \t \t 0.0046\n",
      "14 \t \t 0.0031\n",
      "15 \t \t 0.0025\n",
      "16 \t \t 0.0018\n",
      "17 \t \t 0.0011\n",
      "18 \t \t 0.004\n",
      "19 \t \t 0.003\n",
      "20 \t \t 0.002\n",
      "21 \t \t 0.001\n",
      "22 \t \t 0.0106\n",
      "23 \t \t 0.0096\n",
      "24 \t \t 0.0048\n",
      "25 \t \t 0.0143\n",
      "26 \t \t 0.0137\n",
      "27 \t \t 0.0131\n",
      "28 \t \t 0.0125\n",
      "29 \t \t 0.0111\n",
      "30 \t \t 0.0051\n",
      "31 \t \t 0.0033\n",
      "32 \t \t 0.0008\n",
      "=================================END CVXPY======================================\n",
      "================================================================================\n"
     ]
    }
   ],
   "source": [
    "print('Active power loss:', Pgrid.value-sum(data['Pd']), 'MW')\n",
    "\n",
    "print('Imported active power from main grid:', Pgrid.value,'MW')\n",
    "print('Imported reactive power from main grid:', Qgrid.value,'MVAr')\n",
    "print(\"VOLTAGE MAGNITUDE\")\n",
    "print(\"Bus index \\t Voltage\")\n",
    "for i in range(I):\n",
    "    print(i+1,'\\t \\t', round(math.sqrt(Vsq[i].value), 4))\n",
    "print('================================================================================')\n",
    "print(\"CURRENT MAGNITUDE\")\n",
    "print(\"Line index \\t Current\")\n",
    "for line in range(data['L']):   \n",
    "    if status[line] ==1:\n",
    "        print(line+1,'\\t \\t',round(math.sqrt(Isq[line].value), 4))\n",
    "print('=================================END CVXPY======================================')\n",
    "print('================================================================================')"
   ]
  },
  {
   "cell_type": "markdown",
   "metadata": {},
   "source": [
    "# Branch flows model"
   ]
  },
  {
   "cell_type": "markdown",
   "metadata": {},
   "source": [
    "Objective function: $\\min P^{\\sf grid}$\n",
    "\n",
    "Subject to:\n",
    "\n",
    "> $(\\underline{V}_{i})^2 \\leq V_i^{sq} \\leq (\\overline{V}_{i})^2, \\quad \\forall i \\in \\mathcal{I}$\n",
    "\n",
    "> $\\sum_{k: k \\to i}\\big(P_{ki} - r_{ki} I^{sq}_{ki} \\big) - \\sum_{j: i \\to j } P_{ij} = P^{d}_{i}, ~~ \\forall i \\in \\mathcal{I}$\n",
    "\n",
    "> $\\sum_{k: k \\to i}\\big(Q_{ki} - x_{ki} I^{sq}_{ki} \\big) - \\sum_{j: i \\to j } Q_{ij} = Q^{d}_{i}, ~~ \\forall j \\in \\mathcal{I}$\n",
    "\n",
    "> $P^{\\sf grid} = \\sum\\limits_{j: 1 \\to j} P_{1j},~~ Q^{\\sf grid} = \\sum\\limits_{j: 1\\to j } Q_{1j}$\n",
    "\n",
    "> $V_j^{sq} = V_i^{sq} - 2(r_{\\ell} P_{ij} + x_{\\ell} Q_{ij})+(r_{\\ell}^2 + x_{\\ell}^2)I^{sq}_{\\ell}, \\quad \\forall ij=\\ell \\in \\mathcal{L}$\n",
    "\n",
    "> $I^{sq}_{\\ell} \\geq 0,  \\quad \\forall \\ell \\in \\mathcal{L}$\n",
    "\n",
    "> $P_{ij}^2 + Q_{ij}^2 \\leq V_i^{sq} I^{sq}_{\\ell}, ~~ \\forall\\ell=ij\\in \\mathcal{L}$\n",
    "***"
   ]
  },
  {
   "cell_type": "markdown",
   "metadata": {},
   "source": [
    "Let's define variables: $P_{ij}, Q_{ij}, V^{sq}_i, I^{sq}_\\ell$, and the constraint set"
   ]
  },
  {
   "cell_type": "code",
   "execution_count": 17,
   "metadata": {},
   "outputs": [],
   "source": [
    "#data = spio.loadmat('Radial_Netdata', squeeze_me=True)\n",
    "#r = data['r']\n",
    "#x = data['x']\n",
    "P = cvx.Variable((I,I))\n",
    "Q = cvx.Variable((I,I))\n",
    "Vsq  = cvx.Variable(I)\n",
    "Isq  = cvx.Variable(shape=(data['L'],), nonneg=True)\n",
    "\n",
    "const = []"
   ]
  },
  {
   "cell_type": "markdown",
   "metadata": {},
   "source": [
    "## Voltage limits constraint:\n",
    "$(\\underline{V}_i)^2 \\leq V_{i}^{sq} \\leq (\\overline{V}_i)^2 , \\quad \\forall i \\in \\mathcal{I}$"
   ]
  },
  {
   "cell_type": "code",
   "execution_count": 18,
   "metadata": {},
   "outputs": [],
   "source": [
    "const += [Vsq[i] >= (data['Vmin'][i])**2 for i in range(I) if i!=slack_bus]\n",
    "const += [Vsq[i] <= (data['Vmax'][i])**2 for i in range(I) if i!=slack_bus]\n",
    "if case == \"case18\":\n",
    "    const += [Vsq[slack_bus] == 1.1]\n",
    "else:\n",
    "    const += [Vsq[slack_bus] == 1]"
   ]
  },
  {
   "cell_type": "markdown",
   "metadata": {},
   "source": [
    "## Acitve and reacive power balance constraints:\n",
    "$\\sum_{k: k \\to i}\\big(P_{ki} - r_{ki} I^{sq}_{ki} \\big) - \\sum_{j: i \\to j } P_{ij} = P^{d}_{i}, ~~ \\forall i \\in \\mathcal{I}$\n",
    "\n",
    "$\\sum_{k: k \\to i}\\big(Q_{ki} - x_{ki} I^{sq}_{ki} \\big) - \\sum_{j: i \\to j } Q_{ij} = Q^{d}_{i}, ~~ \\forall j \\in \\mathcal{I}$"
   ]
  },
  {
   "cell_type": "code",
   "execution_count": 19,
   "metadata": {},
   "outputs": [],
   "source": [
    "P_outflow_of = [sum(P[j, data['to_bus'][line]-1] for line in range(data['L']) \n",
    "                  if  ((status[line]==1) and (j==data['from_bus'][line]-1)))  for j in range(I)]     \n",
    "\n",
    "Q_outflow_of = [sum(Q[j, data['to_bus'][line]-1] for line in range(data['L']) \n",
    "                  if  ((status[line]==1) and (j==data['from_bus'][line]-1)) ) for j in range(I)] \n",
    "\n",
    "P_inflow_of  = [sum(P[data['from_bus'][line]-1,j] - r[line]*Isq[line] \n",
    "                        for line in range(data['L']) if  ((status[line]==1) and (j==data['to_bus'][line]-1)) ) \n",
    "                        for j in range(I)]  \n",
    "\n",
    "Q_inflow_of  = [sum(Q[data['from_bus'][line]-1,j] - x[line]*Isq[line] \n",
    "                        for line in range(data['L'])  if  ((status[line]==1) and (j==data['to_bus'][line]-1)))  \n",
    "                        for j in range(I)] \n",
    "const += [data['gs'][j]*Vsq[j] - (P_outflow_of[j] - P_inflow_of[j]) == data['Pd'][j]/data['Sbase'] for j in range(I) if j !=slack_bus]\n",
    "const += [data['bs'][j]*Vsq[j] - (Q_outflow_of[j] - Q_inflow_of[j]) == data['Qd'][j]/data['Sbase'] for j in range(I) if j !=slack_bus]"
   ]
  },
  {
   "cell_type": "markdown",
   "metadata": {},
   "source": [
    "## Voltage drop equation:\n",
    "$V_j^{sq} = V_i^{sq} - 2(r_{\\ell} P_{ij} + x_{\\ell} Q_{ij})+(r_{\\ell}^2 + x_{\\ell}^2)I^{sq}_{\\ell}, \\quad \\forall ij=\\ell \\in \\mathcal{L}$"
   ]
  },
  {
   "cell_type": "code",
   "execution_count": 20,
   "metadata": {},
   "outputs": [],
   "source": [
    "for line in range(data['L']):\n",
    "    if status[line] ==1:\n",
    "        i = data['from_bus'][line]-1\n",
    "        j = data['to_bus'][line]-1\n",
    "        const +=[ Vsq[j] == Vsq[i] - 2*(r[line]*P[i,j]+x[line]*Q[i,j]) + (r[line]**2 + x[line]**2)*Isq[line]]"
   ]
  },
  {
   "cell_type": "markdown",
   "metadata": {},
   "source": [
    "## The SOC constraint:\n",
    "The rotated conic constraint $P_{ij}^2 + Q_{ij}^2 \\leq V_i^{sq} I^{sq}_{\\ell}, ~~ \\forall\\ell=ij\\in \\mathcal{L}$ \n",
    "can be casted into \n",
    "\n",
    "$\\sqrt{P^2_{ij}+Q^2_{ij} + \\Bigg(\\frac{V_i^{sq} - I_{\\ell}^{sq}}{2} \\Bigg)^2} \\leq \\frac{V_i^{sq} + I_{\\ell}^{sq}}{2}, \\forall\\ell=ij\\in \\mathcal{L}$\n",
    "\n",
    "In CVXPY, these two cones can be implemented by two following functions, respectively:\n",
    "- The rotated quadratic cone can be written as $\\frac{P_{ij}^2 + Q_{ij}^2}{V_{i}^{sq}} \\leq I^{sq}_{\\ell}$, which is deployed by ***quad_over_lin*** function\n",
    "- The SOC can be deployed by ***norm2*** function"
   ]
  },
  {
   "cell_type": "code",
   "execution_count": 21,
   "metadata": {},
   "outputs": [],
   "source": [
    "for line in  range(data['L']): \n",
    "    if status[line]==1:\n",
    "        #const += [cvx.quad_over_lin(cvx.bmat([[(P[data['from_bus'][line]-1,data['to_bus'][line]-1]), \n",
    "        #Q[data['from_bus'][line]-1,data['to_bus'][line]-1]]]), 0.5*(Vsq[data['from_bus'][line]-1]-Isq[line])) <= Isq[line]]\n",
    "        const += [cvx.norm2(cvx.bmat([[P[data['from_bus'][line]-1,data['to_bus'][line]-1], \n",
    "                                                Q[data['from_bus'][line]-1,data['to_bus'][line]-1],\n",
    "                                               0.5*(Vsq[data['from_bus'][line]-1]-Isq[line])]]))\n",
    "                                <= 0.5*(Vsq[data['from_bus'][line]-1]+Isq[line])]"
   ]
  },
  {
   "cell_type": "markdown",
   "metadata": {},
   "source": [
    "## Objective function: $\\min P^{\\sf grid}$\n",
    "\n",
    "In this paper, we tested the model with CPLEX and MOSEK. Many other solvers can be called by CVXPY if installed. For detail of supported solvers by CVXPY, refer to: https://www.cvxpy.org/tutorial/advanced/index.html"
   ]
  },
  {
   "cell_type": "code",
   "execution_count": 22,
   "metadata": {},
   "outputs": [
    {
     "name": "stdout",
     "output_type": "stream",
     "text": [
      "===============================================================================\n",
      "                                     CVXPY                                     \n",
      "                                     v1.2.0                                    \n",
      "===============================================================================\n",
      "(CVXPY) Aug 01 12:20:21 PM: Your problem has 2243 variables, 193 constraints, and 0 parameters.\n",
      "(CVXPY) Aug 01 12:20:21 PM: It is compliant with the following grammars: DCP, DQCP\n",
      "(CVXPY) Aug 01 12:20:21 PM: (If you need to solve this problem multiple times, but with different data, consider using parameters.)\n",
      "(CVXPY) Aug 01 12:20:21 PM: CVXPY will first compile your problem; then, it will invoke a numerical solver to obtain a solution.\n",
      "-------------------------------------------------------------------------------\n",
      "                                  Compilation                                  \n",
      "-------------------------------------------------------------------------------\n",
      "(CVXPY) Aug 01 12:20:22 PM: Compiling problem (target solver=MOSEK).\n",
      "(CVXPY) Aug 01 12:20:22 PM: Reduction chain: Dcp2Cone -> CvxAttr2Constr -> ConeMatrixStuffing -> MOSEK\n",
      "(CVXPY) Aug 01 12:20:22 PM: Applying reduction Dcp2Cone\n",
      "(CVXPY) Aug 01 12:20:22 PM: Applying reduction CvxAttr2Constr\n",
      "(CVXPY) Aug 01 12:20:22 PM: Applying reduction ConeMatrixStuffing\n",
      "(CVXPY) Aug 01 12:20:22 PM: Applying reduction MOSEK\n",
      "(CVXPY) Aug 01 12:20:22 PM: Finished problem compilation (took 3.405e-01 seconds).\n",
      "-------------------------------------------------------------------------------\n",
      "                                Numerical solver                               \n",
      "-------------------------------------------------------------------------------\n",
      "(CVXPY) Aug 01 12:20:22 PM: Invoking solver MOSEK  to obtain a solution.\n",
      "\n",
      "\n",
      "(CVXPY) Aug 01 12:20:22 PM: Problem\n",
      "(CVXPY) Aug 01 12:20:22 PM:   Name                   :                 \n",
      "(CVXPY) Aug 01 12:20:22 PM:   Objective sense        : max             \n",
      "(CVXPY) Aug 01 12:20:22 PM:   Type                   : CONIC (conic optimization problem)\n",
      "(CVXPY) Aug 01 12:20:22 PM:   Constraints            : 2275            \n",
      "(CVXPY) Aug 01 12:20:22 PM:   Cones                  : 32              \n",
      "(CVXPY) Aug 01 12:20:22 PM:   Scalar variables       : 353             \n",
      "(CVXPY) Aug 01 12:20:22 PM:   Matrix variables       : 0               \n",
      "(CVXPY) Aug 01 12:20:22 PM:   Integer variables      : 0               \n",
      "(CVXPY) Aug 01 12:20:22 PM: \n",
      "(CVXPY) Aug 01 12:20:22 PM: Optimizer started.\n",
      "(CVXPY) Aug 01 12:20:22 PM: Presolve started.\n",
      "(CVXPY) Aug 01 12:20:22 PM: Linear dependency checker started.\n",
      "(CVXPY) Aug 01 12:20:22 PM: Linear dependency checker terminated.\n",
      "(CVXPY) Aug 01 12:20:22 PM: Eliminator started.\n",
      "(CVXPY) Aug 01 12:20:22 PM: Freed constraints in eliminator : 37\n",
      "(CVXPY) Aug 01 12:20:22 PM: Eliminator terminated.\n",
      "(CVXPY) Aug 01 12:20:22 PM: Eliminator started.\n",
      "(CVXPY) Aug 01 12:20:22 PM: Freed constraints in eliminator : 0\n",
      "(CVXPY) Aug 01 12:20:22 PM: Eliminator terminated.\n",
      "(CVXPY) Aug 01 12:20:22 PM: Eliminator - tries                  : 2                 time                   : 0.00            \n",
      "(CVXPY) Aug 01 12:20:22 PM: Lin. dep.  - tries                  : 1                 time                   : 0.00            \n",
      "(CVXPY) Aug 01 12:20:22 PM: Lin. dep.  - number                 : 0               \n",
      "(CVXPY) Aug 01 12:20:22 PM: Presolve terminated. Time: 0.00    \n",
      "(CVXPY) Aug 01 12:20:22 PM: Problem\n",
      "(CVXPY) Aug 01 12:20:22 PM:   Name                   :                 \n",
      "(CVXPY) Aug 01 12:20:22 PM:   Objective sense        : max             \n",
      "(CVXPY) Aug 01 12:20:22 PM:   Type                   : CONIC (conic optimization problem)\n",
      "(CVXPY) Aug 01 12:20:22 PM:   Constraints            : 2275            \n",
      "(CVXPY) Aug 01 12:20:22 PM:   Cones                  : 32              \n",
      "(CVXPY) Aug 01 12:20:22 PM:   Scalar variables       : 353             \n",
      "(CVXPY) Aug 01 12:20:22 PM:   Matrix variables       : 0               \n",
      "(CVXPY) Aug 01 12:20:22 PM:   Integer variables      : 0               \n",
      "(CVXPY) Aug 01 12:20:22 PM: \n",
      "(CVXPY) Aug 01 12:20:22 PM: Optimizer  - threads                : 6               \n",
      "(CVXPY) Aug 01 12:20:22 PM: Optimizer  - solved problem         : the dual        \n",
      "(CVXPY) Aug 01 12:20:22 PM: Optimizer  - Constraints            : 155\n",
      "(CVXPY) Aug 01 12:20:22 PM: Optimizer  - Cones                  : 32\n",
      "(CVXPY) Aug 01 12:20:22 PM: Optimizer  - Scalar variables       : 219               conic                  : 128             \n",
      "(CVXPY) Aug 01 12:20:22 PM: Optimizer  - Semi-definite variables: 0                 scalarized             : 0               \n",
      "(CVXPY) Aug 01 12:20:22 PM: Factor     - setup time             : 0.00              dense det. time        : 0.00            \n",
      "(CVXPY) Aug 01 12:20:22 PM: Factor     - ML order time          : 0.00              GP order time          : 0.00            \n",
      "(CVXPY) Aug 01 12:20:22 PM: Factor     - nonzeros before factor : 877               after factor           : 944             \n",
      "(CVXPY) Aug 01 12:20:22 PM: Factor     - dense dim.             : 0                 flops                  : 1.06e+04        \n",
      "(CVXPY) Aug 01 12:20:22 PM: ITE PFEAS    DFEAS    GFEAS    PRSTATUS   POBJ              DOBJ              MU       TIME  \n",
      "(CVXPY) Aug 01 12:20:22 PM: 0   1.0e+02  1.2e+00  1.0e+00  0.00e+00   0.000000000e+00   0.000000000e+00   1.0e+00  0.02  \n",
      "(CVXPY) Aug 01 12:20:22 PM: 1   3.3e+01  3.9e-01  5.2e-01  -9.18e-01  -4.442498803e+01  -4.605342587e+01  3.3e-01  0.03  \n",
      "(CVXPY) Aug 01 12:20:22 PM: 2   1.6e+01  1.9e-01  2.2e-01  -3.84e-01  -5.850384183e+01  -5.993865291e+01  1.6e-01  0.03  \n",
      "(CVXPY) Aug 01 12:20:22 PM: 3   4.9e+00  5.8e-02  3.4e-02  5.05e-01   -3.840091746e+01  -3.869592084e+01  4.9e-02  0.03  \n",
      "(CVXPY) Aug 01 12:20:22 PM: 4   1.2e+00  1.5e-02  5.1e-03  8.90e-01   -2.176910252e+01  -2.188792248e+01  1.2e-02  0.03  \n",
      "(CVXPY) Aug 01 12:20:22 PM: 5   6.2e-01  7.3e-03  2.6e-03  5.16e-01   -1.583077598e+01  -1.596840871e+01  6.2e-03  0.03  \n",
      "(CVXPY) Aug 01 12:20:22 PM: 6   4.5e-01  5.4e-03  1.6e-03  2.90e-01   -1.228076817e+01  -1.237318460e+01  4.5e-03  0.03  \n",
      "(CVXPY) Aug 01 12:20:22 PM: 7   2.5e-01  2.9e-03  7.7e-04  3.61e-01   -6.617036538e+00  -6.695169771e+00  2.5e-03  0.03  \n",
      "(CVXPY) Aug 01 12:20:22 PM: 8   7.2e-02  8.5e-04  1.4e-04  6.78e-01   -1.329120193e+00  -1.363486787e+00  7.2e-04  0.03  \n",
      "(CVXPY) Aug 01 12:20:22 PM: 9   3.2e-02  3.8e-04  5.4e-05  5.37e-01   4.914150652e-01   4.661960337e-01   3.2e-04  0.03  \n",
      "(CVXPY) Aug 01 12:20:22 PM: 10  1.9e-02  2.2e-04  3.0e-05  1.97e-01   1.758367963e+00   1.734444970e+00   1.9e-04  0.03  \n",
      "(CVXPY) Aug 01 12:20:22 PM: 11  4.6e-03  5.4e-05  3.7e-06  7.85e-01   3.245610217e+00   3.239614580e+00   4.6e-05  0.03  \n",
      "(CVXPY) Aug 01 12:20:22 PM: 12  2.1e-03  2.5e-05  1.3e-06  9.49e-01   3.569337497e+00   3.566102934e+00   2.1e-05  0.03  \n",
      "(CVXPY) Aug 01 12:20:22 PM: 13  7.1e-04  8.5e-06  2.6e-07  9.83e-01   3.775106769e+00   3.773934345e+00   7.1e-06  0.03  \n",
      "(CVXPY) Aug 01 12:20:22 PM: 14  3.8e-04  4.5e-06  1.0e-07  8.62e-01   3.835217312e+00   3.834523900e+00   3.8e-06  0.03  \n",
      "(CVXPY) Aug 01 12:20:22 PM: 15  2.0e-04  2.4e-06  4.4e-08  9.03e-01   3.868194582e+00   3.867766761e+00   2.0e-06  0.03  \n",
      "(CVXPY) Aug 01 12:20:22 PM: 16  9.8e-05  1.2e-06  1.6e-08  9.15e-01   3.891361369e+00   3.891127692e+00   9.8e-07  0.03  \n",
      "(CVXPY) Aug 01 12:20:22 PM: 17  3.2e-05  3.8e-07  3.0e-09  9.50e-01   3.907931791e+00   3.907849698e+00   3.2e-07  0.03  \n",
      "(CVXPY) Aug 01 12:20:22 PM: 18  1.1e-05  1.3e-07  6.2e-10  9.17e-01   3.914071597e+00   3.914040940e+00   1.1e-07  0.05  \n",
      "(CVXPY) Aug 01 12:20:22 PM: 19  6.3e-06  7.5e-08  2.8e-10  9.21e-01   3.915580973e+00   3.915562170e+00   6.3e-08  0.05  \n",
      "(CVXPY) Aug 01 12:20:22 PM: 20  8.9e-07  1.1e-08  1.5e-11  9.90e-01   3.917367555e+00   3.917364862e+00   8.9e-09  0.05  \n",
      "(CVXPY) Aug 01 12:20:22 PM: 21  1.4e-08  1.6e-10  3.0e-14  9.97e-01   3.917672111e+00   3.917672066e+00   1.4e-10  0.05  \n",
      "(CVXPY) Aug 01 12:20:22 PM: Optimizer terminated. Time: 0.05    \n",
      "(CVXPY) Aug 01 12:20:22 PM: \n",
      "(CVXPY) Aug 01 12:20:22 PM: \n",
      "(CVXPY) Aug 01 12:20:22 PM: Interior-point solution summary\n",
      "(CVXPY) Aug 01 12:20:22 PM:   Problem status  : PRIMAL_AND_DUAL_FEASIBLE\n",
      "(CVXPY) Aug 01 12:20:22 PM:   Solution status : OPTIMAL\n",
      "(CVXPY) Aug 01 12:20:22 PM:   Primal.  obj: 3.9176721106e+00    nrm: 1e+02    Viol.  con: 1e-14    var: 2e-15    cones: 0e+00  \n",
      "(CVXPY) Aug 01 12:20:22 PM:   Dual.    obj: 3.9176720659e+00    nrm: 1e+00    Viol.  con: 0e+00    var: 5e-09    cones: 0e+00  \n",
      "-------------------------------------------------------------------------------\n",
      "                                    Summary                                    \n",
      "-------------------------------------------------------------------------------\n",
      "(CVXPY) Aug 01 12:20:22 PM: Problem status: optimal\n",
      "(CVXPY) Aug 01 12:20:22 PM: Optimal value: 3.918e+00\n",
      "(CVXPY) Aug 01 12:20:22 PM: Compilation took 3.405e-01 seconds\n",
      "(CVXPY) Aug 01 12:20:22 PM: Solver (including time spent in interface) took 6.798e-02 seconds\n"
     ]
    },
    {
     "data": {
      "text/plain": [
       "3.9176720659280218"
      ]
     },
     "execution_count": 22,
     "metadata": {},
     "output_type": "execute_result"
    }
   ],
   "source": [
    "Pgrid = P_outflow_of[slack_bus]*data['Sbase']\n",
    "Qgrid = Q_outflow_of[slack_bus]*data['Sbase']  \n",
    "  \n",
    "prob = cvx.Problem(cvx.Minimize(Pgrid), const)\n",
    "\n",
    "#prob = Problem(Minimize(obj*data['Sbase']), const) \n",
    "#prob.solve(solver='CPLEX', verbose=True, warm_start = True)\n",
    "prob.solve(solver='MOSEK', verbose=True, warm_start = True)"
   ]
  },
  {
   "cell_type": "markdown",
   "metadata": {},
   "source": [
    "## Export the optimal solution"
   ]
  },
  {
   "cell_type": "code",
   "execution_count": 25,
   "metadata": {},
   "outputs": [
    {
     "name": "stdout",
     "output_type": "stream",
     "text": [
      "imported grid: 3.9176720659280218 MW\n",
      "imported reactive power from main grid: 2.4351366855248435 MVAr\n",
      "loss: 0.20267206592802056\n",
      "VOLTAGE MAGNITUDE\n",
      "Bus index \t Voltage\n",
      "1 \t \t 1.0\n",
      "2 \t \t 0.997\n",
      "3 \t \t 0.9829\n",
      "4 \t \t 0.9755\n",
      "5 \t \t 0.9681\n",
      "6 \t \t 0.9497\n",
      "7 \t \t 0.9462\n",
      "8 \t \t 0.9413\n",
      "9 \t \t 0.9351\n",
      "10 \t \t 0.9292\n",
      "11 \t \t 0.9284\n",
      "12 \t \t 0.9269\n",
      "13 \t \t 0.9208\n",
      "14 \t \t 0.9185\n",
      "15 \t \t 0.9171\n",
      "16 \t \t 0.9157\n",
      "17 \t \t 0.9137\n",
      "18 \t \t 0.9131\n",
      "19 \t \t 0.9965\n",
      "20 \t \t 0.9929\n",
      "21 \t \t 0.9922\n",
      "22 \t \t 0.9916\n",
      "23 \t \t 0.9794\n",
      "24 \t \t 0.9727\n",
      "25 \t \t 0.9694\n",
      "26 \t \t 0.9477\n",
      "27 \t \t 0.9452\n",
      "28 \t \t 0.9337\n",
      "29 \t \t 0.9255\n",
      "30 \t \t 0.922\n",
      "31 \t \t 0.9178\n",
      "32 \t \t 0.9169\n",
      "33 \t \t 0.9166\n",
      "================================================================================\n",
      "CURRENT MAGNITUDE\n",
      "Line index \t Current\n",
      "1 \t \t 0.0461\n",
      "2 \t \t 0.041\n",
      "3 \t \t 0.0295\n",
      "4 \t \t 0.028\n",
      "5 \t \t 0.0274\n",
      "6 \t \t 0.0128\n",
      "7 \t \t 0.0104\n",
      "8 \t \t 0.0081\n",
      "9 \t \t 0.0074\n",
      "10 \t \t 0.0067\n",
      "11 \t \t 0.0061\n",
      "12 \t \t 0.0054\n",
      "13 \t \t 0.0046\n",
      "14 \t \t 0.0031\n",
      "15 \t \t 0.0025\n",
      "16 \t \t 0.0018\n",
      "17 \t \t 0.0011\n",
      "18 \t \t 0.004\n",
      "19 \t \t 0.003\n",
      "20 \t \t 0.002\n",
      "21 \t \t 0.001\n",
      "22 \t \t 0.0106\n",
      "23 \t \t 0.0096\n",
      "24 \t \t 0.0048\n",
      "25 \t \t 0.0143\n",
      "26 \t \t 0.0137\n",
      "27 \t \t 0.0131\n",
      "28 \t \t 0.0125\n",
      "29 \t \t 0.0111\n",
      "30 \t \t 0.0051\n",
      "31 \t \t 0.0033\n",
      "32 \t \t 0.0008\n",
      "=================================END CVXPY======================================\n",
      "================================================================================\n"
     ]
    }
   ],
   "source": [
    "print('imported grid:', Pgrid.value, 'MW')\n",
    "print('imported reactive power from main grid:', Qgrid.value,'MVAr')\n",
    "\n",
    "print('loss:', Pgrid.value-sum(data['Pd']))\n",
    "print(\"VOLTAGE MAGNITUDE\")\n",
    "print(\"Bus index \\t Voltage\")\n",
    "for i in range(I):\n",
    "    print(i+1,'\\t \\t', round(math.sqrt(Vsq[i].value), 4))\n",
    "print('================================================================================')\n",
    "print(\"CURRENT MAGNITUDE\")\n",
    "print(\"Line index \\t Current\")\n",
    "for line in range(data['L']):   \n",
    "    if status[line] ==1:\n",
    "        print(line+1,'\\t \\t',round(math.sqrt(Isq[line].value), 4))\n",
    "print('=================================END CVXPY======================================')\n",
    "print('================================================================================')"
   ]
  },
  {
   "cell_type": "code",
   "execution_count": null,
   "metadata": {},
   "outputs": [],
   "source": []
  }
 ],
 "metadata": {
  "kernelspec": {
   "display_name": "Python 3",
   "language": "python",
   "name": "python3"
  },
  "language_info": {
   "codemirror_mode": {
    "name": "ipython",
    "version": 3
   },
   "file_extension": ".py",
   "mimetype": "text/x-python",
   "name": "python",
   "nbconvert_exporter": "python",
   "pygments_lexer": "ipython3",
   "version": "3.8.8"
  },
  "toc-autonumbering": true
 },
 "nbformat": 4,
 "nbformat_minor": 4
}
