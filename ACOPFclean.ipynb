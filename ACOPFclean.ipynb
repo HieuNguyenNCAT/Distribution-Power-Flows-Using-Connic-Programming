{
 "cells": [
  {
   "cell_type": "markdown",
   "metadata": {},
   "source": [
    "\n",
    "<font size=\"5\">**On the comparison of different convexified power flow models in radial network**</font> \n",
    "\n",
    "***\n",
    "This repository contains the supplementary material for the paper entitled \"On the comparison of different convexified power flow models in radial network\" published on IEEE Xplore: https://ieeexplore.ieee.org/stamp/stamp.jsp?arnumber=9814764\n",
    "\n",
    "In the repsitory, the code of following sections are provided:\n",
    "1. Read data from MATPOWER\n",
    "2. Bus injection model\n",
    "3. Branch flows model"
   ]
  },
  {
   "cell_type": "markdown",
   "metadata": {},
   "source": [
    "# Read data from MATPOWER"
   ]
  },
  {
   "cell_type": "code",
   "execution_count": 1,
   "metadata": {},
   "outputs": [],
   "source": [
    "#Read data\n",
    "import cvxpy as cvx\n",
    "import numpy as np\n",
    "import math\n",
    "import mosek\n",
    "import gurobipy\n",
    "# to run the following commands, please follow  https://www.instructables.com/id/Call-MATLAB-Script-and-Function-From-Python/\n",
    "import matlab.engine\n",
    "eng = matlab.engine.start_matlab()\n",
    "\n",
    "##Radial network test cases\n",
    "#case = \"case141\"\n",
    "case =\"case33bw\"\n",
    "#case = \"case18\"\n",
    "\n",
    "ret = eng.Read_RadialNet_Matpower(case)  #case33bw, case123  # these command is equivalent to run Read_Matpower_Radial(case33bw) in Matlab\n",
    "import scipy.io as spio #Reading Matlab mat data as Python dictionary\n",
    "data = spio.loadmat('Radial_Netdata', squeeze_me=True) #taken from Matlab command Read_Matpower_Radial(Matpower_case_format);\n",
    "#data contains the following parameters\n",
    "#'Sbase', 'Pgmax', 'Pgmin', 'Qgmax', 'Qgmin', 'GenVarCost0', 'GenVarCost', 'G', 'B', 'MVAlim', 'connex', 'Pd', 'Qd', 'Vmax', 'Vmin','Gen2Bus'\n",
    "r = data['r']\n",
    "x = data['x']\n",
    "slack_bus =0\n",
    "#slack_bus =55 #case 123 slackbus is 56 (Python index count from 0)\n",
    "#slack_bus =113\n",
    "I = len(data['Pd'])\n",
    "G = data['G']\n",
    "B = -data['B']\n",
    "MVAlim =data['MVAlim']\n",
    "status = data['status']"
   ]
  },
  {
   "cell_type": "markdown",
   "metadata": {},
   "source": [
    "Define a connex function to check whether a pair of node $i,j=\\ell \\in \\mathcal{L}$"
   ]
  },
  {
   "cell_type": "code",
   "execution_count": 2,
   "metadata": {},
   "outputs": [],
   "source": [
    "def connex(i,j,data): #return 1 of (i,j) or (j,i) is a \"connected\" line\n",
    "    temp = False\n",
    "    for line in range(data['L']):\n",
    "        z1= (i== data['from_bus'][line]-1) and (j== data['to_bus'][line]-1)\n",
    "        z2= (j== data['from_bus'][line]-1) and (i== data['to_bus'][line]-1)\n",
    "        z3= (data['status'][line]==1) #some lines are open switches\n",
    "        z= (z1 or z2) and z3\n",
    "        temp = temp or z\n",
    "    return temp"
   ]
  },
  {
   "cell_type": "markdown",
   "metadata": {},
   "source": [
    "Normalize the data from MATPOWER"
   ]
  },
  {
   "cell_type": "code",
   "execution_count": 3,
   "metadata": {},
   "outputs": [
    {
     "name": "stdout",
     "output_type": "stream",
     "text": [
      "[270 270 270 270 270 270 270 270 270 270 270 270 270 270 270 270 270 270\n",
      " 270 270 270 270 270 270 270 270 270 270 270 270 270 270]\n"
     ]
    }
   ],
   "source": [
    "print(MVAlim)\n",
    "if case ==\"case18\":\n",
    "    scale = 10\n",
    "else:\n",
    "    scale = 1\n",
    "data['Sbase']= scale*data['Sbase']\n",
    "r = r*scale\n",
    "x = x*scale\n",
    "data['gs'] = data['gs']/scale\n",
    "data['bs'] = data['bs']/scale"
   ]
  },
  {
   "cell_type": "markdown",
   "metadata": {},
   "source": [
    "# Bus injection model"
   ]
  },
  {
   "cell_type": "markdown",
   "metadata": {},
   "source": [
    "Objective function: $\\min P^{\\sf grid}$\n",
    "\n",
    "Subject to:\n",
    "\n",
    "> $(\\underline{V}_i)^2 \\leq V_{i}^{sq} \\leq (\\overline{V}_i)^2 , \\quad \\forall i \\in \\mathcal{I}$\n",
    "    \n",
    "> $P_{ij} = \\frac{1}{r^2_{\\ell} + x^2_\\ell} \\left( r_{\\ell} V_{i}^{sq} - r_\\ell R_{\\ell} + x_\\ell T_{\\ell} \\right), \\quad \\forall \\ell = ij \\in \\mathcal{L}$\n",
    "\n",
    "> $Q_{ij} = \\frac{1}{r^2_{\\ell} + x^2_\\ell} \\left( x_{\\ell} V_{i}^{sq} - x_\\ell R_{\\ell} - x_\\ell T_{\\ell} \\right), \\quad \\forall \\ell = ij \\in \\mathcal{L}$\n",
    "\n",
    "> $P_{ji} = \\frac{1}{r^2_{\\ell} + x^2_\\ell} \\left( r_{\\ell} V_{j}^{sq} - r_\\ell R_{\\ell} - x_\\ell T_{\\ell} \\right), \\quad \\forall \\ell = ij \\in \\mathcal{L}$\n",
    "\n",
    "> $Q_{ji} = \\frac{1}{r^2_{\\ell} + x^2_\\ell} \\left( x_{\\ell} V_{j}^{sq} - x_\\ell R_{\\ell} + x_\\ell T_{\\ell} \\right), \\quad \\forall \\ell = ij \\in \\mathcal{L}$\n",
    "\n",
    "> $I^{sq}_{\\ell} = \\frac{1}{r^2_{\\ell} + x^2_\\ell} \\left( V_{i}^{sq} + V_{j}^{sq} - 2R_{\\ell} \\right) \\geq 0, \\quad  \\forall \\ell = ij \\in \\mathcal{L}$\n",
    "\n",
    "> $P^d_{i} + \\sum_{j \\in \\mathcal{N} \\left(i \\right)} P_{ij} = 0, \\quad \\forall i \\in \\mathcal{I}$\n",
    "\n",
    "> $Q^d_{i} + \\sum_{j \\in \\mathcal{N} \\left( i \\right)} Q_{ij} = 0, \\quad \\forall i \\in \\mathcal{I}$\n",
    "\n",
    "> $P^{\\sf grid} = \\sum\\limits_{j \\in \\mathcal{N}(1)} P_{1j}$\n",
    "> $Q^{\\sf grid} = \\sum\\limits_{j \\in \\mathcal{N}(1)} Q_{1j}$\n",
    "\n",
    "> $(R_{\\ell})^2 + (T_{\\ell})^2 \\leq V_{i}^{sq} V_{j}^{sq}, ~ R_{\\ell}  \\geq 0,  \\quad \\forall \\ell = ij \\in \\mathcal{L}$\n",
    "\n",
    "> $I^{sq}_{\\ell} \\geq 0,  \\quad \\forall \\ell \\in \\mathcal{L}$\n",
    "***"
   ]
  },
  {
   "cell_type": "markdown",
   "metadata": {},
   "source": [
    "Let's define variables: $P_{ij}, Q_{ij}, R_\\ell, T_\\ell, V^{sq}_i, I^{sq}_i$,\n",
    "and define the constraint set"
   ]
  },
  {
   "cell_type": "code",
   "execution_count": 4,
   "metadata": {},
   "outputs": [],
   "source": [
    "P = cvx.Variable((I,I))\n",
    "Q = cvx.Variable((I,I))\n",
    "R = cvx.Variable(data['L'],nonneg=True) \n",
    "T = cvx.Variable(data['L'])            \n",
    "Vsq  = cvx.Variable(I) \n",
    "Isq  = cvx.Variable(data['L'],nonneg=True)\n",
    "\n",
    "const = []"
   ]
  },
  {
   "cell_type": "markdown",
   "metadata": {},
   "source": [
    "## Voltage limits constraint:\n",
    "$(\\underline{V}_i)^2 \\leq V_{i}^{sq} \\leq (\\overline{V}_i)^2 , \\quad \\forall i \\in \\mathcal{I}$"
   ]
  },
  {
   "cell_type": "code",
   "execution_count": 5,
   "metadata": {},
   "outputs": [],
   "source": [
    "const += [Vsq[i] >= (data['Vmin'][i])**2 for i in range(I) if i != slack_bus]\n",
    "const += [Vsq[i] <= (data['Vmax'][i])**2 for i in range(I) if i != slack_bus]\n",
    "\n",
    "if case == \"case18\":\n",
    "    const += [Vsq[slack_bus] == 1.1]\n",
    "else:\n",
    "    const += [Vsq[slack_bus] == 1]"
   ]
  },
  {
   "cell_type": "markdown",
   "metadata": {},
   "source": [
    "## The line power flow equations $P_{ij}, P_{ji}, Q_{ij}, Q_{ji}$ and the squared line current $I^{sq}_\\ell$:  \n",
    "$P_{ij} = \\frac{1}{r^2_{\\ell} + x^2_\\ell} \\left( r_{\\ell} V_{i}^{sq} - r_\\ell R_{\\ell} + x_\\ell T_{\\ell} \\right), \\quad \\forall \\ell = ij \\in \\mathcal{L}$\n",
    "\n",
    "$Q_{ij} = \\frac{1}{r^2_{\\ell} + x^2_\\ell} \\left( x_{\\ell} V_{i}^{sq} - x_\\ell R_{\\ell} - x_\\ell T_{\\ell} \\right), \\quad \\forall \\ell = ij \\in \\mathcal{L}$\n",
    "\n",
    "$P_{ji} = \\frac{1}{r^2_{\\ell} + x^2_\\ell} \\left( r_{\\ell} V_{j}^{sq} - r_\\ell R_{\\ell} - x_\\ell T_{\\ell} \\right), \\quad \\forall \\ell = ij \\in \\mathcal{L}$\n",
    "\n",
    "$Q_{ji} = \\frac{1}{r^2_{\\ell} + x^2_\\ell} \\left( x_{\\ell} V_{j}^{sq} - x_\\ell R_{\\ell} + x_\\ell T_{\\ell} \\right), \\quad \\forall \\ell = ij \\in \\mathcal{L}$"
   ]
  },
  {
   "cell_type": "code",
   "execution_count": 6,
   "metadata": {},
   "outputs": [],
   "source": [
    "for line in range(data['L']):\n",
    "    i = data['from_bus'][line]-1\n",
    "    j = data['to_bus'][line]-1       \n",
    "    if status[line] ==1:\n",
    "        const += [P[i,j] == (r[line]*Vsq[i] - r[line]*R[line]+ x[line]*T[line])/(r[line]**2 + x[line]**2)]\n",
    "        const += [Q[i,j] == (x[line]*Vsq[i] - x[line]*R[line]- r[line]*T[line])/(r[line]**2 + x[line]**2)]\n",
    "        const += [P[j,i] == (r[line]*Vsq[j] - r[line]*R[line]- x[line]*T[line])/(r[line]**2 + x[line]**2)]\n",
    "        const += [Q[j,i] == (x[line]*Vsq[j] - x[line]*R[line]+ r[line]*T[line])/(r[line]**2 + x[line]**2)]        \n",
    "        const += [Isq[line]  == (Vsq[i]+Vsq[j] - 2*R[line])/(r[line]**2 + x[line]**2)]"
   ]
  },
  {
   "cell_type": "markdown",
   "metadata": {},
   "source": [
    "## The active and reactive power balance constraints:  \n",
    "$P^d_{i} + \\sum_{j \\in \\mathcal{N} \\left(i \\right)} P_{ij} = 0, \\quad \\forall i \\in \\mathcal{I}$\n",
    "\n",
    "$Q^d_{i} + \\sum_{j \\in \\mathcal{N} \\left( i \\right)} Q_{ij} = 0, \\quad \\forall i \\in \\mathcal{I}$"
   ]
  },
  {
   "cell_type": "code",
   "execution_count": 7,
   "metadata": {},
   "outputs": [],
   "source": [
    "bus_Pinjection = [-sum(P[i,j] for j in range(I) if connex(i,j,data)) for i in range(I)]\n",
    "bus_Qinjection = [-sum(Q[i,j] for j in range(I) if connex(i,j,data)) for i in range(I)]\n",
    "\n",
    "const += [(bus_Pinjection[i]+data['gs'][i]*Vsq[i])== data['Pd'][i]/data['Sbase']  for i in range(I) if i != slack_bus]\n",
    "const += [(bus_Qinjection[i]+data['bs'][i]*Vsq[i]) == data['Qd'][i]/data['Sbase'] for i in range(I) if i != slack_bus]"
   ]
  },
  {
   "cell_type": "markdown",
   "metadata": {},
   "source": [
    "## The SOC constraint:  \n",
    "The rotated conic constraint $(R_{\\ell})^2 + (T_{\\ell})^2 \\leq V_{i}^{sq} V_{j}^{sq}, ~ R_{\\ell}  \\geq 0,  \\quad \\forall \\ell = ij \\in \\mathcal{L}$ \n",
    "can be casted into \n",
    "\n",
    "$\\sqrt{R^2_{\\ell} + T^2_{\\ell} + \\left( \\frac{V_{i}^{sq} - V_{j}^{sq}}{2} \\right)^2} \\leq \\frac{V_{i}^{sq} + V_{j}^{sq}}{2}, \\forall \\ell = ij \\in \\mathcal{L}$\n",
    "\n",
    "There are two methods to implement the SOC constraint in CVXPY:\n",
    "- ***quad_over_lin*** function\n",
    "- ***norm2*** function"
   ]
  },
  {
   "cell_type": "code",
   "execution_count": 8,
   "metadata": {},
   "outputs": [],
   "source": [
    "for line in range(data['L']):\n",
    "    if status[line] ==1:\n",
    "        i = data['from_bus'][line]-1\n",
    "        j = data['to_bus'][line]-1\n",
    "#        const += [cvx.quad_over_lin(cvx.bmat([[R[line], T[line]]]), Vsq[i]) <= Vsq[j]]\n",
    "        const += [cvx.norm2(cvx.bmat([[R[line], T[line], 0.5*(Vsq[i] - Vsq[j])]])) <= 0.5*(Vsq[i]+ Vsq[j])]"
   ]
  },
  {
   "cell_type": "markdown",
   "metadata": {},
   "source": [
    "## Objective function: $\\min P^{\\sf grid}$\n",
    "\n",
    "In this paper, we tested the model with CPLEX and MOSEK. Many other solvers can be called by CVXPY if installed. For detail of supported solvers by CVXPY, refer to: https://www.cvxpy.org/tutorial/advanced/index.html"
   ]
  },
  {
   "cell_type": "code",
   "execution_count": 9,
   "metadata": {},
   "outputs": [
    {
     "name": "stdout",
     "output_type": "stream",
     "text": [
      "===============================================================================\n",
      "                                     CVXPY                                     \n",
      "                                     v1.2.0                                    \n",
      "===============================================================================\n",
      "(CVXPY) Jul 20 10:50:51 AM: Your problem has 2307 variables, 321 constraints, and 0 parameters.\n",
      "(CVXPY) Jul 20 10:50:51 AM: It is compliant with the following grammars: DCP, DQCP\n",
      "(CVXPY) Jul 20 10:50:51 AM: (If you need to solve this problem multiple times, but with different data, consider using parameters.)\n",
      "(CVXPY) Jul 20 10:50:51 AM: CVXPY will first compile your problem; then, it will invoke a numerical solver to obtain a solution.\n",
      "-------------------------------------------------------------------------------\n",
      "                                  Compilation                                  \n",
      "-------------------------------------------------------------------------------\n",
      "(CVXPY) Jul 20 10:50:51 AM: Compiling problem (target solver=MOSEK).\n",
      "(CVXPY) Jul 20 10:50:51 AM: Reduction chain: Dcp2Cone -> CvxAttr2Constr -> ConeMatrixStuffing -> MOSEK\n",
      "(CVXPY) Jul 20 10:50:51 AM: Applying reduction Dcp2Cone\n",
      "(CVXPY) Jul 20 10:50:51 AM: Applying reduction CvxAttr2Constr\n",
      "(CVXPY) Jul 20 10:50:51 AM: Applying reduction ConeMatrixStuffing\n",
      "(CVXPY) Jul 20 10:50:51 AM: Applying reduction MOSEK\n",
      "(CVXPY) Jul 20 10:50:51 AM: Finished problem compilation (took 4.720e-01 seconds).\n",
      "-------------------------------------------------------------------------------\n",
      "                                Numerical solver                               \n",
      "-------------------------------------------------------------------------------\n",
      "(CVXPY) Jul 20 10:50:51 AM: Invoking solver MOSEK  to obtain a solution.\n",
      "\n",
      "\n",
      "(CVXPY) Jul 20 10:50:51 AM: Problem\n",
      "(CVXPY) Jul 20 10:50:51 AM:   Name                   :                 \n",
      "(CVXPY) Jul 20 10:50:51 AM:   Objective sense        : max             \n",
      "(CVXPY) Jul 20 10:50:51 AM:   Type                   : CONIC (conic optimization problem)\n",
      "(CVXPY) Jul 20 10:50:51 AM:   Constraints            : 2339            \n",
      "(CVXPY) Jul 20 10:50:51 AM:   Cones                  : 32              \n",
      "(CVXPY) Jul 20 10:50:51 AM:   Scalar variables       : 513             \n",
      "(CVXPY) Jul 20 10:50:51 AM:   Matrix variables       : 0               \n",
      "(CVXPY) Jul 20 10:50:51 AM:   Integer variables      : 0               \n",
      "(CVXPY) Jul 20 10:50:51 AM: \n",
      "(CVXPY) Jul 20 10:50:51 AM: Optimizer started.\n",
      "(CVXPY) Jul 20 10:50:51 AM: Presolve started.\n",
      "(CVXPY) Jul 20 10:50:51 AM: Linear dependency checker started.\n",
      "(CVXPY) Jul 20 10:50:51 AM: Linear dependency checker terminated.\n",
      "(CVXPY) Jul 20 10:50:51 AM: Eliminator started.\n",
      "(CVXPY) Jul 20 10:50:51 AM: Freed constraints in eliminator : 183\n",
      "(CVXPY) Jul 20 10:50:51 AM: Eliminator terminated.\n",
      "(CVXPY) Jul 20 10:50:51 AM: Eliminator started.\n",
      "(CVXPY) Jul 20 10:50:51 AM: Freed constraints in eliminator : 0\n",
      "(CVXPY) Jul 20 10:50:51 AM: Eliminator terminated.\n",
      "(CVXPY) Jul 20 10:50:51 AM: Eliminator - tries                  : 2                 time                   : 0.00            \n",
      "(CVXPY) Jul 20 10:50:51 AM: Lin. dep.  - tries                  : 1                 time                   : 0.00            \n",
      "(CVXPY) Jul 20 10:50:51 AM: Lin. dep.  - number                 : 0               \n",
      "(CVXPY) Jul 20 10:50:51 AM: Presolve terminated. Time: 0.00    \n",
      "(CVXPY) Jul 20 10:50:51 AM: Problem\n",
      "(CVXPY) Jul 20 10:50:51 AM:   Name                   :                 \n",
      "(CVXPY) Jul 20 10:50:51 AM:   Objective sense        : max             \n",
      "(CVXPY) Jul 20 10:50:51 AM:   Type                   : CONIC (conic optimization problem)\n",
      "(CVXPY) Jul 20 10:50:51 AM:   Constraints            : 2339            \n",
      "(CVXPY) Jul 20 10:50:51 AM:   Cones                  : 32              \n",
      "(CVXPY) Jul 20 10:50:51 AM:   Scalar variables       : 513             \n",
      "(CVXPY) Jul 20 10:50:51 AM:   Matrix variables       : 0               \n",
      "(CVXPY) Jul 20 10:50:51 AM:   Integer variables      : 0               \n",
      "(CVXPY) Jul 20 10:50:51 AM: \n",
      "(CVXPY) Jul 20 10:50:51 AM: Optimizer  - threads                : 6               \n",
      "(CVXPY) Jul 20 10:50:51 AM: Optimizer  - solved problem         : the dual        \n",
      "(CVXPY) Jul 20 10:50:51 AM: Optimizer  - Constraints            : 159\n",
      "(CVXPY) Jul 20 10:50:51 AM: Optimizer  - Cones                  : 32\n",
      "(CVXPY) Jul 20 10:50:51 AM: Optimizer  - Scalar variables       : 223               conic                  : 128             \n",
      "(CVXPY) Jul 20 10:50:51 AM: Optimizer  - Semi-definite variables: 0                 scalarized             : 0               \n",
      "(CVXPY) Jul 20 10:50:51 AM: Factor     - setup time             : 0.00              dense det. time        : 0.00            \n",
      "(CVXPY) Jul 20 10:50:51 AM: Factor     - ML order time          : 0.00              GP order time          : 0.00            \n",
      "(CVXPY) Jul 20 10:50:51 AM: Factor     - nonzeros before factor : 1085              after factor           : 1257            \n",
      "(CVXPY) Jul 20 10:50:51 AM: Factor     - dense dim.             : 0                 flops                  : 1.83e+04        \n",
      "(CVXPY) Jul 20 10:50:51 AM: ITE PFEAS    DFEAS    GFEAS    PRSTATUS   POBJ              DOBJ              MU       TIME  \n",
      "(CVXPY) Jul 20 10:50:51 AM: 0   1.4e+03  1.0e+00  1.0e+00  0.00e+00   1.379797487e+03   1.379797487e+03   1.0e+00  0.03  \n",
      "(CVXPY) Jul 20 10:50:51 AM: 1   2.7e+02  1.9e-01  4.4e-01  -1.00e+00  1.163631104e+03   1.159474016e+03   1.9e-01  0.05  \n",
      "(CVXPY) Jul 20 10:50:51 AM: 2   4.7e+01  3.4e-02  1.9e-01  -1.01e+00  -2.506204912e+02  -2.797608360e+02  3.4e-02  0.08  \n",
      "(CVXPY) Jul 20 10:50:51 AM: 3   3.0e+01  2.2e-02  1.3e-01  -8.87e-01  -9.073086807e+02  -9.439928131e+02  2.2e-02  0.08  \n",
      "(CVXPY) Jul 20 10:50:51 AM: 4   2.3e+01  1.7e-02  4.4e-02  8.42e-01   -8.227104027e+01  -8.896900774e+01  1.7e-02  0.13  \n",
      "(CVXPY) Jul 20 10:50:51 AM: 5   5.4e+00  3.9e-03  5.1e-03  5.33e-01   -1.933110010e+02  -1.948711855e+02  3.9e-03  0.13  \n",
      "(CVXPY) Jul 20 10:50:51 AM: 6   2.9e+00  2.1e-03  2.3e-03  9.96e-01   -1.460517494e+02  -1.471857843e+02  2.1e-03  0.13  \n",
      "(CVXPY) Jul 20 10:50:51 AM: 7   1.8e+00  1.3e-03  1.2e-03  8.56e-01   -1.186667485e+02  -1.195579462e+02  1.3e-03  0.13  \n",
      "(CVXPY) Jul 20 10:50:51 AM: 8   1.3e+00  9.8e-04  1.0e-03  4.41e-01   -1.081734796e+02  -1.091683726e+02  9.8e-04  0.13  \n",
      "(CVXPY) Jul 20 10:50:51 AM: 9   7.2e-01  5.2e-04  3.9e-04  7.83e-01   -7.315396483e+01  -7.369588467e+01  5.2e-04  0.13  \n",
      "(CVXPY) Jul 20 10:50:51 AM: 10  2.6e-01  1.9e-04  1.1e-04  5.98e-01   -4.354061649e+01  -4.387245490e+01  1.9e-04  0.13  \n",
      "(CVXPY) Jul 20 10:50:51 AM: 11  1.3e-01  9.3e-05  4.8e-05  5.13e-01   -3.008542648e+01  -3.034964120e+01  9.3e-05  0.13  \n",
      "(CVXPY) Jul 20 10:50:51 AM: 12  3.8e-02  2.7e-05  9.2e-06  6.05e-01   -1.106317337e+01  -1.117546621e+01  2.7e-05  0.13  \n",
      "(CVXPY) Jul 20 10:50:51 AM: 13  1.4e-02  1.0e-05  2.7e-06  6.98e-01   -4.619628820e+00  -4.687065417e+00  1.0e-05  0.13  \n",
      "(CVXPY) Jul 20 10:50:51 AM: 14  8.0e-03  5.8e-06  1.4e-06  5.50e-01   -2.124882577e+00  -2.181398346e+00  5.8e-06  0.13  \n",
      "(CVXPY) Jul 20 10:50:51 AM: 15  4.3e-03  3.1e-06  6.2e-07  5.59e-01   1.928725385e-01   1.525476257e-01   3.1e-06  0.13  \n",
      "(CVXPY) Jul 20 10:50:51 AM: 16  9.1e-04  6.6e-07  5.6e-08  8.78e-01   2.995814691e+00   2.988580626e+00   6.6e-07  0.13  \n",
      "(CVXPY) Jul 20 10:50:51 AM: 17  2.2e-04  1.6e-07  7.2e-09  1.05e+00   3.643440597e+00   3.641479145e+00   1.6e-07  0.13  \n",
      "(CVXPY) Jul 20 10:50:51 AM: 18  5.8e-05  4.2e-08  9.8e-10  9.98e-01   3.822646350e+00   3.822101789e+00   4.2e-08  0.13  \n",
      "(CVXPY) Jul 20 10:50:51 AM: 19  3.8e-05  2.8e-08  5.8e-10  8.64e-01   3.848149900e+00   3.847719974e+00   2.8e-08  0.13  \n",
      "(CVXPY) Jul 20 10:50:51 AM: 20  3.1e-05  2.3e-08  4.1e-10  5.27e-01   3.859385636e+00   3.859070772e+00   2.3e-08  0.14  \n",
      "(CVXPY) Jul 20 10:50:51 AM: 21  2.3e-05  1.7e-08  2.9e-10  8.77e-01   3.872544616e+00   3.872266375e+00   1.7e-08  0.14  \n",
      "(CVXPY) Jul 20 10:50:51 AM: 22  7.2e-06  5.2e-09  5.1e-11  1.00e+00   3.903692954e+00   3.903598432e+00   5.7e-09  0.14  \n",
      "(CVXPY) Jul 20 10:50:51 AM: 23  3.3e-06  2.4e-09  1.6e-11  1.00e+00   3.910924080e+00   3.910879504e+00   2.6e-09  0.14  \n",
      "(CVXPY) Jul 20 10:50:51 AM: 24  2.0e-06  1.5e-09  7.9e-12  1.00e+00   3.913576112e+00   3.913547339e+00   1.7e-09  0.14  \n",
      "(CVXPY) Jul 20 10:50:51 AM: 25  1.0e-06  7.2e-10  2.8e-12  1.00e+00   3.915645933e+00   3.915631403e+00   8.5e-10  0.14  \n",
      "(CVXPY) Jul 20 10:50:51 AM: 26  2.0e-07  2.0e-10  3.0e-13  1.00e+00   3.917268428e+00   3.917265543e+00   1.7e-10  0.14  \n",
      "(CVXPY) Jul 20 10:50:51 AM: Optimizer terminated. Time: 0.16    \n",
      "(CVXPY) Jul 20 10:50:51 AM: \n",
      "(CVXPY) Jul 20 10:50:51 AM: \n",
      "(CVXPY) Jul 20 10:50:51 AM: Interior-point solution summary\n",
      "(CVXPY) Jul 20 10:50:51 AM:   Problem status  : PRIMAL_AND_DUAL_FEASIBLE\n",
      "(CVXPY) Jul 20 10:50:51 AM:   Solution status : OPTIMAL\n",
      "(CVXPY) Jul 20 10:50:51 AM:   Primal.  obj: 3.9172684280e+00    nrm: 3e+03    Viol.  con: 5e-13    var: 0e+00    cones: 2e-05  \n",
      "(CVXPY) Jul 20 10:50:51 AM:   Dual.    obj: 3.9172655427e+00    nrm: 1e+00    Viol.  con: 0e+00    var: 2e-08    cones: 0e+00  \n",
      "-------------------------------------------------------------------------------\n",
      "                                    Summary                                    \n",
      "-------------------------------------------------------------------------------\n",
      "(CVXPY) Jul 20 10:50:51 AM: Problem status: optimal\n",
      "(CVXPY) Jul 20 10:50:51 AM: Optimal value: 3.917e+00\n",
      "(CVXPY) Jul 20 10:50:51 AM: Compilation took 4.720e-01 seconds\n",
      "(CVXPY) Jul 20 10:50:51 AM: Solver (including time spent in interface) took 1.862e-01 seconds\n"
     ]
    },
    {
     "data": {
      "text/plain": [
       "3.917265542651016"
      ]
     },
     "execution_count": 9,
     "metadata": {},
     "output_type": "execute_result"
    }
   ],
   "source": [
    "Pgrid = -bus_Pinjection[slack_bus]*data['Sbase']\n",
    "Qgrid = -bus_Qinjection[slack_bus]*data['Sbase']\n",
    "\n",
    "prob = cvx.Problem(cvx.Minimize(Pgrid), const) \n",
    "\n",
    "#Define a desired solver at user's preference:\n",
    "prob.solve(solver='MOSEK', verbose=True, warm_start = True)\n",
    "#prob.solve(solver='CPLEX', verbose=True, warm_start = True) "
   ]
  },
  {
   "cell_type": "markdown",
   "metadata": {},
   "source": [
    "## Export the optimal solution"
   ]
  },
  {
   "cell_type": "code",
   "execution_count": 10,
   "metadata": {},
   "outputs": [
    {
     "name": "stdout",
     "output_type": "stream",
     "text": [
      "Active power loss: 0.20226554265101493 MW\n",
      "BUS DATA\n",
      "Imported active power from main grid: 3.917265542651016 MW\n",
      "Imported reactive power from main grid: 2.434882825486717 MVAr\n",
      "Bus \t Voltage\n",
      "1 \t 1.0\n",
      "2 \t 0.997\n",
      "3 \t 0.9829\n",
      "4 \t 0.9755\n",
      "5 \t 0.9681\n",
      "6 \t 0.9497\n",
      "7 \t 0.9462\n",
      "8 \t 0.9413\n",
      "9 \t 0.9351\n",
      "10 \t 0.9293\n",
      "11 \t 0.9284\n",
      "12 \t 0.9269\n",
      "13 \t 0.9208\n",
      "14 \t 0.9185\n",
      "15 \t 0.9171\n",
      "16 \t 0.9157\n",
      "17 \t 0.9137\n",
      "18 \t 0.9131\n",
      "19 \t 0.9965\n",
      "20 \t 0.9929\n",
      "21 \t 0.9922\n",
      "22 \t 0.9916\n",
      "23 \t 0.9794\n",
      "24 \t 0.9727\n",
      "25 \t 0.9694\n",
      "26 \t 0.9477\n",
      "27 \t 0.9452\n",
      "28 \t 0.9337\n",
      "29 \t 0.9255\n",
      "30 \t 0.922\n",
      "31 \t 0.9178\n",
      "32 \t 0.9169\n",
      "33 \t 0.9166\n",
      "================================================================================\n",
      "LINE DATA\n",
      "Bus \t Current\n",
      "33 \t 0.046\n",
      "33 \t 0.041\n",
      "33 \t 0.0295\n",
      "33 \t 0.028\n",
      "33 \t 0.0274\n",
      "33 \t 0.0128\n",
      "33 \t 0.0104\n",
      "33 \t 0.0081\n",
      "33 \t 0.0074\n",
      "33 \t 0.0065\n",
      "33 \t 0.006\n",
      "33 \t 0.0054\n",
      "33 \t 0.0046\n",
      "33 \t 0.0031\n",
      "33 \t 0.0024\n",
      "33 \t 0.0018\n",
      "33 \t 0.001\n",
      "33 \t 0.0035\n",
      "33 \t 0.003\n",
      "33 \t 0.0019\n",
      "33 \t 0.001\n",
      "33 \t 0.0106\n",
      "33 \t 0.0096\n",
      "33 \t 0.0048\n",
      "33 \t 0.0142\n",
      "33 \t 0.0136\n",
      "33 \t 0.0131\n",
      "33 \t 0.0125\n",
      "33 \t 0.0111\n",
      "33 \t 0.0051\n",
      "33 \t 0.0032\n",
      "33 \t 0.0004\n",
      "=================================END CVXPY======================================\n",
      "================================================================================\n"
     ]
    }
   ],
   "source": [
    "print('Active power loss:', Pgrid.value-sum(data['Pd']), 'MW')\n",
    "\n",
    "print(\"BUS DATA\")\n",
    "print('Imported active power from main grid:', Pgrid.value,'MW')\n",
    "print('Imported reactive power from main grid:', Qgrid.value,'MVAr')\n",
    "print(\"Bus \\t Voltage\")\n",
    "for i in range(I):\n",
    "    print(i+1,'\\t', round(math.sqrt(Vsq[i].value), 4))\n",
    "print('================================================================================')\n",
    "print(\"LINE DATA\")\n",
    "print(\"Bus \\t Current\")\n",
    "for line in range(data['L']):   \n",
    "    if status[line] ==1:\n",
    "        print(i+1,'\\t',round(math.sqrt(Isq[line].value), 4))\n",
    "print('=================================END CVXPY======================================')\n",
    "print('================================================================================')"
   ]
  },
  {
   "cell_type": "markdown",
   "metadata": {},
   "source": [
    "# Branch flows model"
   ]
  },
  {
   "cell_type": "markdown",
   "metadata": {},
   "source": [
    "Objective function: $\\min P^{\\sf grid}$\n",
    "\n",
    "Subject to:\n",
    "\n",
    "> $(\\underline{V}_{i})^2 \\leq V_i^{sq} \\leq (\\overline{V}_{i})^2, \\quad \\forall i \\in \\mathcal{I}$\n",
    "\n",
    "> $\\sum_{k: k \\to i}\\big(P_{ki} - r_{ki} I^{sq}_{ki} \\big) - \\sum_{j: i \\to j } P_{ij} = P^{d}_{i}, ~~ \\forall i \\in \\mathcal{I}$\n",
    "\n",
    "> $\\sum_{k: k \\to i}\\big(Q_{ki} - x_{ki} I^{sq}_{ki} \\big) - \\sum_{j: i \\to j } Q_{ij} = Q^{d}_{i}, ~~ \\forall j \\in \\mathcal{I}$\n",
    "\n",
    "> $P^{\\sf grid} = \\sum\\limits_{j: 1 \\to j} P_{1j},~~ Q^{\\sf grid} = \\sum\\limits_{j: 1\\to j } Q_{1j}$\n",
    "\n",
    "> $V_j^{sq} = V_i^{sq} - 2(r_{\\ell} P_{ij} + x_{\\ell} Q_{ij})+(r_{\\ell}^2 + x_{\\ell}^2)I^{sq}_{\\ell}, \\quad \\forall ij=\\ell \\in \\mathcal{L}$\n",
    "\n",
    "> $I^{sq}_{\\ell} \\geq 0,  \\quad \\forall \\ell \\in \\mathcal{L}$\n",
    "\n",
    "> $P_{ij}^2 + Q_{ij}^2 \\leq V_i^{sq} I^{sq}_{\\ell}, ~~ \\forall\\ell=ij\\in \\mathcal{L}$\n",
    "***"
   ]
  },
  {
   "cell_type": "markdown",
   "metadata": {},
   "source": [
    "Let's define variables: $P_{ij}, Q_{ij}, V^{sq}_i, I^{sq}_i$, and the constraint set"
   ]
  },
  {
   "cell_type": "code",
   "execution_count": 11,
   "metadata": {},
   "outputs": [],
   "source": [
    "#data = spio.loadmat('Radial_Netdata', squeeze_me=True)\n",
    "#r = data['r']\n",
    "#x = data['x']\n",
    "P = cvx.Variable((I,I))\n",
    "Q = cvx.Variable((I,I))\n",
    "Vsq  = cvx.Variable(I)\n",
    "Isq  = cvx.Variable(shape=(data['L'],), nonneg=True)\n",
    "\n",
    "const = []"
   ]
  },
  {
   "cell_type": "markdown",
   "metadata": {},
   "source": [
    "## Voltage limits constraint:\n",
    "$(\\underline{V}_i)^2 \\leq V_{i}^{sq} \\leq (\\overline{V}_i)^2 , \\quad \\forall i \\in \\mathcal{I}$"
   ]
  },
  {
   "cell_type": "code",
   "execution_count": 12,
   "metadata": {},
   "outputs": [],
   "source": [
    "const += [Vsq[i] >= (data['Vmin'][i])**2 for i in range(I) if i!=slack_bus]\n",
    "const += [Vsq[i] <= (data['Vmax'][i])**2 for i in range(I) if i!=slack_bus]\n",
    "if case == \"case18\":\n",
    "    const += [Vsq[slack_bus] == 1.1]\n",
    "else:\n",
    "    const += [Vsq[slack_bus] == 1]"
   ]
  },
  {
   "cell_type": "markdown",
   "metadata": {},
   "source": [
    "## Acitve and reacive power balance constraints:\n",
    "$\\sum_{k: k \\to i}\\big(P_{ki} - r_{ki} I^{sq}_{ki} \\big) - \\sum_{j: i \\to j } P_{ij} = P^{d}_{i}, ~~ \\forall i \\in \\mathcal{I}$\n",
    "\n",
    "$\\sum_{k: k \\to i}\\big(Q_{ki} - x_{ki} I^{sq}_{ki} \\big) - \\sum_{j: i \\to j } Q_{ij} = Q^{d}_{i}, ~~ \\forall j \\in \\mathcal{I}$"
   ]
  },
  {
   "cell_type": "code",
   "execution_count": 13,
   "metadata": {},
   "outputs": [],
   "source": [
    "P_outflow_of = [sum(P[j, data['to_bus'][line]-1] for line in range(data['L']) \n",
    "                  if  ((status[line]==1) and (j==data['from_bus'][line]-1)))  for j in range(I)]     \n",
    "\n",
    "Q_outflow_of = [sum(Q[j, data['to_bus'][line]-1] for line in range(data['L']) \n",
    "                  if  ((status[line]==1) and (j==data['from_bus'][line]-1)) ) for j in range(I)] \n",
    "\n",
    "P_inflow_of  = [sum(P[data['from_bus'][line]-1,j] - r[line]*Isq[line] \n",
    "                        for line in range(data['L']) if  ((status[line]==1) and (j==data['to_bus'][line]-1)) ) \n",
    "                        for j in range(I)]  \n",
    "\n",
    "Q_inflow_of  = [sum(Q[data['from_bus'][line]-1,j] - x[line]*Isq[line] \n",
    "                        for line in range(data['L'])  if  ((status[line]==1) and (j==data['to_bus'][line]-1)))  \n",
    "                        for j in range(I)] \n",
    "const += [data['gs'][j]*Vsq[j] - (P_outflow_of[j] - P_inflow_of[j]) == data['Pd'][j]/data['Sbase'] for j in range(I) if j !=slack_bus]\n",
    "const += [data['bs'][j]*Vsq[j] - (Q_outflow_of[j] - Q_inflow_of[j]) == data['Qd'][j]/data['Sbase'] for j in range(I) if j !=slack_bus]"
   ]
  },
  {
   "cell_type": "markdown",
   "metadata": {},
   "source": [
    "## Voltage drop equation:\n",
    "$V_j^{sq} = V_i^{sq} - 2(r_{\\ell} P_{ij} + x_{\\ell} Q_{ij})+(r_{\\ell}^2 + x_{\\ell}^2)I^{sq}_{\\ell}, \\quad \\forall ij=\\ell \\in \\mathcal{L}$"
   ]
  },
  {
   "cell_type": "code",
   "execution_count": 14,
   "metadata": {},
   "outputs": [],
   "source": [
    "for line in range(data['L']):\n",
    "    if status[line] ==1:\n",
    "        i = data['from_bus'][line]-1\n",
    "        j = data['to_bus'][line]-1\n",
    "        const +=[ Vsq[j] == Vsq[i] - 2*(r[line]*P[i,j]+x[line]*Q[i,j]) + (r[line]**2 + x[line]**2)*Isq[line]]"
   ]
  },
  {
   "cell_type": "markdown",
   "metadata": {},
   "source": [
    "## The SOC constraint:\n",
    "The rotated conic constraint $P_{ij}^2 + Q_{ij}^2 \\leq V_i^{sq} I^{sq}_{\\ell}, ~~ \\forall\\ell=ij\\in \\mathcal{L}$ \n",
    "can be casted into \n",
    "\n",
    "$\\sqrt{P^2_{ij}+Q^2_{ij} + \\Bigg(\\frac{V_i^{sq} - I_{\\ell}^{sq}}{2} \\Bigg)^2} \\leq \\frac{V_i^{sq} + I_{\\ell}^{sq}}{2}, \\forall\\ell=ij\\in \\mathcal{L}$\n",
    "\n",
    "There are two methods to implement the SOC constraint in CVXPY:\n",
    "- ***quad_over_lin*** function\n",
    "- ***norm2*** function"
   ]
  },
  {
   "cell_type": "code",
   "execution_count": 15,
   "metadata": {},
   "outputs": [],
   "source": [
    "for line in  range(data['L']): \n",
    "    if status[line]==1:\n",
    "        const += [cvx.norm2(cvx.bmat( [[P[data['from_bus'][line]-1,data['to_bus'][line]-1], \n",
    "                                                Q[data['from_bus'][line]-1,data['to_bus'][line]-1],\n",
    "                                               0.5*(Vsq[data['from_bus'][line]-1]-Isq[line])]]))\n",
    "                                <= 0.5*(Vsq[data['from_bus'][line]-1]+Isq[line])]"
   ]
  },
  {
   "cell_type": "markdown",
   "metadata": {},
   "source": [
    "## Objective function: $\\min P^{\\sf grid}$\n",
    "\n",
    "In this paper, we tested the model with CPLEX and MOSEK. Many other solvers can be called by CVXPY if installed. For detail of supported solvers by CVXPY, refer to: https://www.cvxpy.org/tutorial/advanced/index.html"
   ]
  },
  {
   "cell_type": "code",
   "execution_count": 16,
   "metadata": {},
   "outputs": [
    {
     "name": "stdout",
     "output_type": "stream",
     "text": [
      "===============================================================================\n",
      "                                     CVXPY                                     \n",
      "                                     v1.2.0                                    \n",
      "===============================================================================\n",
      "(CVXPY) Jul 20 10:51:19 AM: Your problem has 2243 variables, 193 constraints, and 0 parameters.\n",
      "(CVXPY) Jul 20 10:51:19 AM: It is compliant with the following grammars: DCP, DQCP\n",
      "(CVXPY) Jul 20 10:51:19 AM: (If you need to solve this problem multiple times, but with different data, consider using parameters.)\n",
      "(CVXPY) Jul 20 10:51:19 AM: CVXPY will first compile your problem; then, it will invoke a numerical solver to obtain a solution.\n",
      "-------------------------------------------------------------------------------\n",
      "                                  Compilation                                  \n",
      "-------------------------------------------------------------------------------\n",
      "(CVXPY) Jul 20 10:51:19 AM: Compiling problem (target solver=CPLEX).\n",
      "(CVXPY) Jul 20 10:51:19 AM: Reduction chain: Dcp2Cone -> CvxAttr2Constr -> ConeMatrixStuffing -> CPLEX\n",
      "(CVXPY) Jul 20 10:51:19 AM: Applying reduction Dcp2Cone\n",
      "(CVXPY) Jul 20 10:51:19 AM: Applying reduction CvxAttr2Constr\n",
      "(CVXPY) Jul 20 10:51:19 AM: Applying reduction ConeMatrixStuffing\n",
      "(CVXPY) Jul 20 10:51:19 AM: Applying reduction CPLEX\n",
      "(CVXPY) Jul 20 10:51:19 AM: Finished problem compilation (took 3.367e-01 seconds).\n",
      "-------------------------------------------------------------------------------\n",
      "                                Numerical solver                               \n",
      "-------------------------------------------------------------------------------\n",
      "(CVXPY) Jul 20 10:51:19 AM: Invoking solver CPLEX  to obtain a solution.\n",
      "Version identifier: 20.1.0.0 | 2020-11-10 | 9bedb6d68\n",
      "CPXPARAM_Read_DataCheck                          1\n",
      "CPXPARAM_Preprocessing_QCPDuals                  2\n",
      "Tried aggregator 1 time.\n",
      "QCP Presolve eliminated 97 rows and 2119 columns.\n",
      "Aggregator did 89 substitutions.\n",
      "Reduced QCP has 195 rows, 202 columns, and 725 nonzeros.\n",
      "Reduced QCP has 39 quadratic constraints.\n",
      "Presolve time = 0.02 sec. (0.64 ticks)\n",
      "Parallel mode: using up to 12 threads for barrier.\n",
      "\n",
      "***NOTE: Found 1 dense columns.\n",
      "\n",
      "Number of nonzeros in lower triangle of A*A' = 1761\n",
      "Using Approximate Minimum Degree ordering\n",
      "Total time for automatic ordering = 0.00 sec. (0.09 ticks)\n",
      "Summary statistics for Cholesky factor:\n",
      "  Threads                   = 12\n",
      "  Rows in Factor            = 196\n",
      "  Integer space required    = 392\n",
      "  Total non-zeros in factor = 2548\n",
      "  Total FP ops to factor    = 40560\n",
      " Itn      Primal Obj        Dual Obj  Prim Inf Upper Inf  Dual Inf Inf Ratio\n",
      "   0   1.9944515e+02   4.6000000e-01  2.18e+02  0.00e+00  7.40e+02  1.00e+00\n",
      "   1   1.1357613e+02  -5.6005094e+01  2.18e+02  0.00e+00  7.40e+02  3.88e-01\n",
      "   2   4.7535335e+01  -5.1794792e+01  1.88e+02  0.00e+00  6.37e+02  7.92e-01\n",
      "   3  -1.1677579e+01  -3.6791984e+01  1.10e+02  0.00e+00  3.72e+02  3.81e+00\n",
      "   4  -8.8774310e+00  -2.5463271e+01  2.77e+01  0.00e+00  9.39e+01  4.59e+00\n",
      "   5  -6.1628043e+00  -2.0149317e+01  1.83e+01  0.00e+00  6.22e+01  4.54e+00\n",
      "   6  -2.4832214e+00  -8.2475921e+00  1.55e+01  0.00e+00  5.26e+01  8.82e+00\n",
      "   7  -5.0517475e-01  -2.5677502e+00  6.41e+00  0.00e+00  2.18e+01  2.05e+01\n",
      "   8   8.2648736e-01  -4.4725523e-01  2.30e+00  0.00e+00  7.81e+00  2.65e+01\n",
      "   9   1.2508590e+00  -1.3845776e-03  1.43e+00  0.00e+00  4.85e+00  2.25e+01\n",
      "  10   2.9005089e+00   2.4208230e+00  1.41e+00  0.00e+00  4.80e+00  5.18e+01\n",
      "  11   3.5211258e+00   3.3893901e+00  5.44e-01  0.00e+00  1.85e+00  1.99e+02\n",
      "  12   3.5753347e+00   3.4639005e+00  1.49e-01  0.00e+00  5.06e-01  2.11e+02\n",
      "  13   3.6956386e+00   3.6322117e+00  1.27e-01  0.00e+00  4.30e-01  3.33e+02\n",
      "  14   3.8128122e+00   3.7941088e+00  7.24e-02  0.00e+00  2.46e-01  9.85e+02\n",
      "  15   3.8277234e+00   3.8109762e+00  2.15e-02  0.00e+00  7.30e-02  1.02e+03\n",
      "  16   3.8702364e+00   3.8628155e+00  1.93e-02  0.00e+00  6.56e-02  2.06e+03\n",
      "  17   3.8855575e+00   3.8807626e+00  8.62e-03  0.00e+00  2.93e-02  2.99e+03\n",
      "  18   3.8971808e+00   3.8943104e+00  5.59e-03  0.00e+00  1.90e-02  4.61e+03\n",
      "  19   3.9091881e+00   3.9081899e+00  3.37e-03  0.00e+00  1.14e-02  1.22e+04\n",
      "  20   3.9111533e+00   3.9103810e+00  1.18e-03  0.00e+00  4.00e-03  1.51e+04\n",
      "  21   3.9152488e+00   3.9149877e+00  9.14e-04  0.00e+00  3.10e-03  4.24e+04\n",
      "  22   3.9163254e+00   3.9161821e+00  3.10e-04  0.00e+00  1.05e-03  7.20e+04\n",
      "  23   3.9172487e+00   3.9172045e+00  1.71e-04  0.00e+00  5.82e-04  2.25e+05\n",
      "  24   3.9175993e+00   3.9175915e+00  5.30e-05  0.00e+00  1.80e-04  1.23e+06\n",
      "  25   3.9176731e+00   3.9176727e+00  9.41e-06  0.00e+00  3.19e-05  2.36e+07\n",
      "  26   3.9176764e+00   3.9176763e+00  4.87e-07  0.00e+00  1.65e-06  1.29e+08\n",
      "-------------------------------------------------------------------------------\n",
      "                                    Summary                                    \n",
      "-------------------------------------------------------------------------------\n",
      "(CVXPY) Jul 20 10:51:20 AM: Problem status: optimal\n",
      "(CVXPY) Jul 20 10:51:20 AM: Optimal value: 3.918e+00\n",
      "(CVXPY) Jul 20 10:51:20 AM: Compilation took 3.367e-01 seconds\n",
      "(CVXPY) Jul 20 10:51:20 AM: Solver (including time spent in interface) took 1.485e-01 seconds\n"
     ]
    },
    {
     "data": {
      "text/plain": [
       "3.9176763660355745"
      ]
     },
     "execution_count": 16,
     "metadata": {},
     "output_type": "execute_result"
    }
   ],
   "source": [
    "Pgrid = P_outflow_of[slack_bus]*data['Sbase']\n",
    "Qgrid = Q_outflow_of[slack_bus]*data['Sbase']  \n",
    "  \n",
    "prob = cvx.Problem(cvx.Minimize(Pgrid), const)\n",
    "\n",
    "#prob = Problem(Minimize(obj*data['Sbase']), const) \n",
    "prob.solve(solver='CPLEX', verbose=True, warm_start = True)"
   ]
  },
  {
   "cell_type": "markdown",
   "metadata": {},
   "source": [
    "## Export the optimal solution"
   ]
  },
  {
   "cell_type": "code",
   "execution_count": 17,
   "metadata": {},
   "outputs": [
    {
     "name": "stdout",
     "output_type": "stream",
     "text": [
      "imported grid: 3.9176763660355745 MW\n",
      "imported reactive power from main grid: 2.4351406426080486 MVAr\n",
      "loss: 0.20267636603557326\n",
      "voltage: [1.0, 0.9970322604631742, 0.9829379869239869, 0.9754564187861315, 0.9680592398283269, 0.9496581892367615, 0.9461726258011464, 0.9413284509114908, 0.9350593875142781, 0.9292444400314803, 0.9283844349003093, 0.9268848546123404, 0.9207717649866609, 0.9185050101162173, 0.917092698182686, 0.9157247788018156, 0.9136975657669528, 0.9130904990171635, 0.9965038965580432, 0.9929263014859355, 0.9922217979279909, 0.9915843789969369, 0.979352261188058, 0.9726811052979137, 0.9693561168526644, 0.9477289221709727, 0.9451651766739038, 0.933725594693745, 0.9255074924785229, 0.9219500721166075, 0.9177889013848247, 0.9168734802989371, 0.9165898367128407]\n",
      " BUS DATA\n",
      "imported active power from main grid: 3.9176763660355745 MW\n",
      "imported reactive power from main grid: 2.4351406426080486 MVAr\n",
      "Bus    Voltage\n",
      "1    1.0\n",
      "2    0.99703\n",
      "3    0.98294\n",
      "4    0.97546\n",
      "5    0.96806\n",
      "6    0.94966\n",
      "7    0.94617\n",
      "8    0.94133\n",
      "9    0.93506\n",
      "10    0.92924\n",
      "11    0.92838\n",
      "12    0.92688\n",
      "13    0.92077\n",
      "14    0.91851\n",
      "15    0.91709\n",
      "16    0.91572\n",
      "17    0.9137\n",
      "18    0.91309\n",
      "19    0.9965\n",
      "20    0.99293\n",
      "21    0.99222\n",
      "22    0.99158\n",
      "23    0.97935\n",
      "24    0.97268\n",
      "25    0.96936\n",
      "26    0.94773\n",
      "27    0.94517\n",
      "28    0.93373\n",
      "29    0.92551\n",
      "30    0.92195\n",
      "31    0.91779\n",
      "32    0.91687\n",
      "33    0.91659\n"
     ]
    }
   ],
   "source": [
    "print('imported grid:', Pgrid.value, 'MW')\n",
    "print('imported reactive power from main grid:', Qgrid.value,'MVAr')\n",
    "\n",
    "print('loss:', Pgrid.value-sum(data['Pd']))\n",
    "\n",
    "print('voltage:', [math.sqrt(Vsq[i].value) for i in range(I)])\n",
    "\n",
    "print(\" BUS DATA\")\n",
    "print('imported active power from main grid:', Pgrid.value,'MW')\n",
    "print('imported reactive power from main grid:', Qgrid.value,'MVAr')\n",
    "print(\"Bus    Voltage\")\n",
    "for i in range(I):\n",
    "    print(i+1, '  ', round(math.sqrt(Vsq[i].value), 5))"
   ]
  },
  {
   "cell_type": "code",
   "execution_count": null,
   "metadata": {},
   "outputs": [],
   "source": []
  }
 ],
 "metadata": {
  "kernelspec": {
   "display_name": "Python 3",
   "language": "python",
   "name": "python3"
  },
  "language_info": {
   "codemirror_mode": {
    "name": "ipython",
    "version": 3
   },
   "file_extension": ".py",
   "mimetype": "text/x-python",
   "name": "python",
   "nbconvert_exporter": "python",
   "pygments_lexer": "ipython3",
   "version": "3.8.8"
  },
  "toc-autonumbering": true
 },
 "nbformat": 4,
 "nbformat_minor": 4
}
